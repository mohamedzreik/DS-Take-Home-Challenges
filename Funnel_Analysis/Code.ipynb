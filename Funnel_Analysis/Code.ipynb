{
 "cells": [
  {
   "cell_type": "code",
   "id": "initial_id",
   "metadata": {
    "collapsed": true,
    "ExecuteTime": {
     "end_time": "2025-08-02T14:15:52.837780Z",
     "start_time": "2025-08-02T14:15:52.830437Z"
    }
   },
   "source": [
    "import pandas as pd\n",
    "from matplotlib import pyplot as plt\n",
    "import seaborn as sns"
   ],
   "outputs": [],
   "execution_count": 3
  },
  {
   "metadata": {
    "ExecuteTime": {
     "end_time": "2025-08-02T14:15:53.074072Z",
     "start_time": "2025-08-02T14:15:52.880025Z"
    }
   },
   "cell_type": "code",
   "source": [
    "home = pd.read_csv(\"home_page_table.csv\")\n",
    "payment_con = pd.read_csv(\"payment_confirmation_table.csv\")\n",
    "payment_page = pd.read_csv(\"payment_page_table.csv\")\n",
    "search = pd.read_csv(\"search_page_table.csv\")\n",
    "user = pd.read_csv(\"user_table.csv\")"
   ],
   "id": "9ac2798a14413b06",
   "outputs": [],
   "execution_count": 4
  },
  {
   "metadata": {
    "ExecuteTime": {
     "end_time": "2025-08-02T14:15:53.190380Z",
     "start_time": "2025-08-02T14:15:53.171679Z"
    }
   },
   "cell_type": "code",
   "source": [
    "home.head(\n",
    ")"
   ],
   "id": "fd148718a22ea1cd",
   "outputs": [
    {
     "data": {
      "text/plain": [
       "   user_id       page\n",
       "0   313593  home_page\n",
       "1   468315  home_page\n",
       "2   264005  home_page\n",
       "3   290784  home_page\n",
       "4   639104  home_page"
      ],
      "text/html": [
       "<div>\n",
       "<style scoped>\n",
       "    .dataframe tbody tr th:only-of-type {\n",
       "        vertical-align: middle;\n",
       "    }\n",
       "\n",
       "    .dataframe tbody tr th {\n",
       "        vertical-align: top;\n",
       "    }\n",
       "\n",
       "    .dataframe thead th {\n",
       "        text-align: right;\n",
       "    }\n",
       "</style>\n",
       "<table border=\"1\" class=\"dataframe\">\n",
       "  <thead>\n",
       "    <tr style=\"text-align: right;\">\n",
       "      <th></th>\n",
       "      <th>user_id</th>\n",
       "      <th>page</th>\n",
       "    </tr>\n",
       "  </thead>\n",
       "  <tbody>\n",
       "    <tr>\n",
       "      <th>0</th>\n",
       "      <td>313593</td>\n",
       "      <td>home_page</td>\n",
       "    </tr>\n",
       "    <tr>\n",
       "      <th>1</th>\n",
       "      <td>468315</td>\n",
       "      <td>home_page</td>\n",
       "    </tr>\n",
       "    <tr>\n",
       "      <th>2</th>\n",
       "      <td>264005</td>\n",
       "      <td>home_page</td>\n",
       "    </tr>\n",
       "    <tr>\n",
       "      <th>3</th>\n",
       "      <td>290784</td>\n",
       "      <td>home_page</td>\n",
       "    </tr>\n",
       "    <tr>\n",
       "      <th>4</th>\n",
       "      <td>639104</td>\n",
       "      <td>home_page</td>\n",
       "    </tr>\n",
       "  </tbody>\n",
       "</table>\n",
       "</div>"
      ]
     },
     "execution_count": 5,
     "metadata": {},
     "output_type": "execute_result"
    }
   ],
   "execution_count": 5
  },
  {
   "metadata": {
    "ExecuteTime": {
     "end_time": "2025-08-02T14:15:53.435461Z",
     "start_time": "2025-08-02T14:15:53.423474Z"
    }
   },
   "cell_type": "code",
   "source": "payment_con.head()",
   "id": "4178385e4e7910c",
   "outputs": [
    {
     "data": {
      "text/plain": [
       "   user_id                       page\n",
       "0   123100  payment_confirmation_page\n",
       "1   704999  payment_confirmation_page\n",
       "2   407188  payment_confirmation_page\n",
       "3   538348  payment_confirmation_page\n",
       "4   841681  payment_confirmation_page"
      ],
      "text/html": [
       "<div>\n",
       "<style scoped>\n",
       "    .dataframe tbody tr th:only-of-type {\n",
       "        vertical-align: middle;\n",
       "    }\n",
       "\n",
       "    .dataframe tbody tr th {\n",
       "        vertical-align: top;\n",
       "    }\n",
       "\n",
       "    .dataframe thead th {\n",
       "        text-align: right;\n",
       "    }\n",
       "</style>\n",
       "<table border=\"1\" class=\"dataframe\">\n",
       "  <thead>\n",
       "    <tr style=\"text-align: right;\">\n",
       "      <th></th>\n",
       "      <th>user_id</th>\n",
       "      <th>page</th>\n",
       "    </tr>\n",
       "  </thead>\n",
       "  <tbody>\n",
       "    <tr>\n",
       "      <th>0</th>\n",
       "      <td>123100</td>\n",
       "      <td>payment_confirmation_page</td>\n",
       "    </tr>\n",
       "    <tr>\n",
       "      <th>1</th>\n",
       "      <td>704999</td>\n",
       "      <td>payment_confirmation_page</td>\n",
       "    </tr>\n",
       "    <tr>\n",
       "      <th>2</th>\n",
       "      <td>407188</td>\n",
       "      <td>payment_confirmation_page</td>\n",
       "    </tr>\n",
       "    <tr>\n",
       "      <th>3</th>\n",
       "      <td>538348</td>\n",
       "      <td>payment_confirmation_page</td>\n",
       "    </tr>\n",
       "    <tr>\n",
       "      <th>4</th>\n",
       "      <td>841681</td>\n",
       "      <td>payment_confirmation_page</td>\n",
       "    </tr>\n",
       "  </tbody>\n",
       "</table>\n",
       "</div>"
      ]
     },
     "execution_count": 6,
     "metadata": {},
     "output_type": "execute_result"
    }
   ],
   "execution_count": 6
  },
  {
   "metadata": {
    "ExecuteTime": {
     "end_time": "2025-08-02T14:15:53.752160Z",
     "start_time": "2025-08-02T14:15:53.740761Z"
    }
   },
   "cell_type": "code",
   "source": "payment_page.head()",
   "id": "e70a631b6d453187",
   "outputs": [
    {
     "data": {
      "text/plain": [
       "   user_id          page\n",
       "0   253019  payment_page\n",
       "1   310478  payment_page\n",
       "2   304081  payment_page\n",
       "3   901286  payment_page\n",
       "4   195052  payment_page"
      ],
      "text/html": [
       "<div>\n",
       "<style scoped>\n",
       "    .dataframe tbody tr th:only-of-type {\n",
       "        vertical-align: middle;\n",
       "    }\n",
       "\n",
       "    .dataframe tbody tr th {\n",
       "        vertical-align: top;\n",
       "    }\n",
       "\n",
       "    .dataframe thead th {\n",
       "        text-align: right;\n",
       "    }\n",
       "</style>\n",
       "<table border=\"1\" class=\"dataframe\">\n",
       "  <thead>\n",
       "    <tr style=\"text-align: right;\">\n",
       "      <th></th>\n",
       "      <th>user_id</th>\n",
       "      <th>page</th>\n",
       "    </tr>\n",
       "  </thead>\n",
       "  <tbody>\n",
       "    <tr>\n",
       "      <th>0</th>\n",
       "      <td>253019</td>\n",
       "      <td>payment_page</td>\n",
       "    </tr>\n",
       "    <tr>\n",
       "      <th>1</th>\n",
       "      <td>310478</td>\n",
       "      <td>payment_page</td>\n",
       "    </tr>\n",
       "    <tr>\n",
       "      <th>2</th>\n",
       "      <td>304081</td>\n",
       "      <td>payment_page</td>\n",
       "    </tr>\n",
       "    <tr>\n",
       "      <th>3</th>\n",
       "      <td>901286</td>\n",
       "      <td>payment_page</td>\n",
       "    </tr>\n",
       "    <tr>\n",
       "      <th>4</th>\n",
       "      <td>195052</td>\n",
       "      <td>payment_page</td>\n",
       "    </tr>\n",
       "  </tbody>\n",
       "</table>\n",
       "</div>"
      ]
     },
     "execution_count": 7,
     "metadata": {},
     "output_type": "execute_result"
    }
   ],
   "execution_count": 7
  },
  {
   "metadata": {
    "ExecuteTime": {
     "end_time": "2025-08-02T14:15:54.214126Z",
     "start_time": "2025-08-02T14:15:54.198986Z"
    }
   },
   "cell_type": "code",
   "source": [
    "user.head(\n",
    "\n",
    ")"
   ],
   "id": "b0dcff61422f0255",
   "outputs": [
    {
     "data": {
      "text/plain": [
       "   user_id        date   device     sex\n",
       "0   450007  2015-02-28  Desktop  Female\n",
       "1   756838  2015-01-13  Desktop    Male\n",
       "2   568983  2015-04-09  Desktop    Male\n",
       "3   190794  2015-02-18  Desktop  Female\n",
       "4   537909  2015-01-15  Desktop    Male"
      ],
      "text/html": [
       "<div>\n",
       "<style scoped>\n",
       "    .dataframe tbody tr th:only-of-type {\n",
       "        vertical-align: middle;\n",
       "    }\n",
       "\n",
       "    .dataframe tbody tr th {\n",
       "        vertical-align: top;\n",
       "    }\n",
       "\n",
       "    .dataframe thead th {\n",
       "        text-align: right;\n",
       "    }\n",
       "</style>\n",
       "<table border=\"1\" class=\"dataframe\">\n",
       "  <thead>\n",
       "    <tr style=\"text-align: right;\">\n",
       "      <th></th>\n",
       "      <th>user_id</th>\n",
       "      <th>date</th>\n",
       "      <th>device</th>\n",
       "      <th>sex</th>\n",
       "    </tr>\n",
       "  </thead>\n",
       "  <tbody>\n",
       "    <tr>\n",
       "      <th>0</th>\n",
       "      <td>450007</td>\n",
       "      <td>2015-02-28</td>\n",
       "      <td>Desktop</td>\n",
       "      <td>Female</td>\n",
       "    </tr>\n",
       "    <tr>\n",
       "      <th>1</th>\n",
       "      <td>756838</td>\n",
       "      <td>2015-01-13</td>\n",
       "      <td>Desktop</td>\n",
       "      <td>Male</td>\n",
       "    </tr>\n",
       "    <tr>\n",
       "      <th>2</th>\n",
       "      <td>568983</td>\n",
       "      <td>2015-04-09</td>\n",
       "      <td>Desktop</td>\n",
       "      <td>Male</td>\n",
       "    </tr>\n",
       "    <tr>\n",
       "      <th>3</th>\n",
       "      <td>190794</td>\n",
       "      <td>2015-02-18</td>\n",
       "      <td>Desktop</td>\n",
       "      <td>Female</td>\n",
       "    </tr>\n",
       "    <tr>\n",
       "      <th>4</th>\n",
       "      <td>537909</td>\n",
       "      <td>2015-01-15</td>\n",
       "      <td>Desktop</td>\n",
       "      <td>Male</td>\n",
       "    </tr>\n",
       "  </tbody>\n",
       "</table>\n",
       "</div>"
      ]
     },
     "execution_count": 8,
     "metadata": {},
     "output_type": "execute_result"
    }
   ],
   "execution_count": 8
  },
  {
   "metadata": {
    "ExecuteTime": {
     "end_time": "2025-08-02T14:15:54.604472Z",
     "start_time": "2025-08-02T14:15:54.593390Z"
    }
   },
   "cell_type": "code",
   "source": "search.head()",
   "id": "69057c2347fc1fe",
   "outputs": [
    {
     "data": {
      "text/plain": [
       "   user_id         page\n",
       "0    15866  search_page\n",
       "1   347058  search_page\n",
       "2   577020  search_page\n",
       "3   780347  search_page\n",
       "4   383739  search_page"
      ],
      "text/html": [
       "<div>\n",
       "<style scoped>\n",
       "    .dataframe tbody tr th:only-of-type {\n",
       "        vertical-align: middle;\n",
       "    }\n",
       "\n",
       "    .dataframe tbody tr th {\n",
       "        vertical-align: top;\n",
       "    }\n",
       "\n",
       "    .dataframe thead th {\n",
       "        text-align: right;\n",
       "    }\n",
       "</style>\n",
       "<table border=\"1\" class=\"dataframe\">\n",
       "  <thead>\n",
       "    <tr style=\"text-align: right;\">\n",
       "      <th></th>\n",
       "      <th>user_id</th>\n",
       "      <th>page</th>\n",
       "    </tr>\n",
       "  </thead>\n",
       "  <tbody>\n",
       "    <tr>\n",
       "      <th>0</th>\n",
       "      <td>15866</td>\n",
       "      <td>search_page</td>\n",
       "    </tr>\n",
       "    <tr>\n",
       "      <th>1</th>\n",
       "      <td>347058</td>\n",
       "      <td>search_page</td>\n",
       "    </tr>\n",
       "    <tr>\n",
       "      <th>2</th>\n",
       "      <td>577020</td>\n",
       "      <td>search_page</td>\n",
       "    </tr>\n",
       "    <tr>\n",
       "      <th>3</th>\n",
       "      <td>780347</td>\n",
       "      <td>search_page</td>\n",
       "    </tr>\n",
       "    <tr>\n",
       "      <th>4</th>\n",
       "      <td>383739</td>\n",
       "      <td>search_page</td>\n",
       "    </tr>\n",
       "  </tbody>\n",
       "</table>\n",
       "</div>"
      ]
     },
     "execution_count": 9,
     "metadata": {},
     "output_type": "execute_result"
    }
   ],
   "execution_count": 9
  },
  {
   "metadata": {
    "ExecuteTime": {
     "end_time": "2025-08-02T14:15:55.270189Z",
     "start_time": "2025-08-02T14:15:55.088240Z"
    }
   },
   "cell_type": "code",
   "source": [
    "data = pd.merge(left=user, right=home, how='left', on='user_id')\n",
    "data = pd.merge(left=data, right=search, how='left', on='user_id', suffixes=('_home', '_search'))\n",
    "data = pd.merge(left=data, right=payment_page, how='left', on='user_id')\n",
    "data = pd.merge(left=data, right=payment_page, how='left', on='user_id', suffixes=('_payment', '_confirmation'))\n",
    "data.head()"
   ],
   "id": "eefbac6a22e5bbce",
   "outputs": [
    {
     "data": {
      "text/plain": [
       "   user_id        date   device     sex  page_home  page_search page_payment  \\\n",
       "0   450007  2015-02-28  Desktop  Female  home_page          NaN          NaN   \n",
       "1   756838  2015-01-13  Desktop    Male  home_page          NaN          NaN   \n",
       "2   568983  2015-04-09  Desktop    Male  home_page  search_page          NaN   \n",
       "3   190794  2015-02-18  Desktop  Female  home_page  search_page          NaN   \n",
       "4   537909  2015-01-15  Desktop    Male  home_page          NaN          NaN   \n",
       "\n",
       "  page_confirmation  \n",
       "0               NaN  \n",
       "1               NaN  \n",
       "2               NaN  \n",
       "3               NaN  \n",
       "4               NaN  "
      ],
      "text/html": [
       "<div>\n",
       "<style scoped>\n",
       "    .dataframe tbody tr th:only-of-type {\n",
       "        vertical-align: middle;\n",
       "    }\n",
       "\n",
       "    .dataframe tbody tr th {\n",
       "        vertical-align: top;\n",
       "    }\n",
       "\n",
       "    .dataframe thead th {\n",
       "        text-align: right;\n",
       "    }\n",
       "</style>\n",
       "<table border=\"1\" class=\"dataframe\">\n",
       "  <thead>\n",
       "    <tr style=\"text-align: right;\">\n",
       "      <th></th>\n",
       "      <th>user_id</th>\n",
       "      <th>date</th>\n",
       "      <th>device</th>\n",
       "      <th>sex</th>\n",
       "      <th>page_home</th>\n",
       "      <th>page_search</th>\n",
       "      <th>page_payment</th>\n",
       "      <th>page_confirmation</th>\n",
       "    </tr>\n",
       "  </thead>\n",
       "  <tbody>\n",
       "    <tr>\n",
       "      <th>0</th>\n",
       "      <td>450007</td>\n",
       "      <td>2015-02-28</td>\n",
       "      <td>Desktop</td>\n",
       "      <td>Female</td>\n",
       "      <td>home_page</td>\n",
       "      <td>NaN</td>\n",
       "      <td>NaN</td>\n",
       "      <td>NaN</td>\n",
       "    </tr>\n",
       "    <tr>\n",
       "      <th>1</th>\n",
       "      <td>756838</td>\n",
       "      <td>2015-01-13</td>\n",
       "      <td>Desktop</td>\n",
       "      <td>Male</td>\n",
       "      <td>home_page</td>\n",
       "      <td>NaN</td>\n",
       "      <td>NaN</td>\n",
       "      <td>NaN</td>\n",
       "    </tr>\n",
       "    <tr>\n",
       "      <th>2</th>\n",
       "      <td>568983</td>\n",
       "      <td>2015-04-09</td>\n",
       "      <td>Desktop</td>\n",
       "      <td>Male</td>\n",
       "      <td>home_page</td>\n",
       "      <td>search_page</td>\n",
       "      <td>NaN</td>\n",
       "      <td>NaN</td>\n",
       "    </tr>\n",
       "    <tr>\n",
       "      <th>3</th>\n",
       "      <td>190794</td>\n",
       "      <td>2015-02-18</td>\n",
       "      <td>Desktop</td>\n",
       "      <td>Female</td>\n",
       "      <td>home_page</td>\n",
       "      <td>search_page</td>\n",
       "      <td>NaN</td>\n",
       "      <td>NaN</td>\n",
       "    </tr>\n",
       "    <tr>\n",
       "      <th>4</th>\n",
       "      <td>537909</td>\n",
       "      <td>2015-01-15</td>\n",
       "      <td>Desktop</td>\n",
       "      <td>Male</td>\n",
       "      <td>home_page</td>\n",
       "      <td>NaN</td>\n",
       "      <td>NaN</td>\n",
       "      <td>NaN</td>\n",
       "    </tr>\n",
       "  </tbody>\n",
       "</table>\n",
       "</div>"
      ]
     },
     "execution_count": 10,
     "metadata": {},
     "output_type": "execute_result"
    }
   ],
   "execution_count": 10
  },
  {
   "metadata": {
    "ExecuteTime": {
     "end_time": "2025-08-02T14:15:55.547006Z",
     "start_time": "2025-08-02T14:15:55.494246Z"
    }
   },
   "cell_type": "code",
   "source": "data.info()",
   "id": "5abd347b1ab1cbd1",
   "outputs": [
    {
     "name": "stdout",
     "output_type": "stream",
     "text": [
      "<class 'pandas.core.frame.DataFrame'>\n",
      "RangeIndex: 90400 entries, 0 to 90399\n",
      "Data columns (total 8 columns):\n",
      " #   Column             Non-Null Count  Dtype \n",
      "---  ------             --------------  ----- \n",
      " 0   user_id            90400 non-null  int64 \n",
      " 1   date               90400 non-null  object\n",
      " 2   device             90400 non-null  object\n",
      " 3   sex                90400 non-null  object\n",
      " 4   page_home          90400 non-null  object\n",
      " 5   page_search        45200 non-null  object\n",
      " 6   page_payment       6030 non-null   object\n",
      " 7   page_confirmation  6030 non-null   object\n",
      "dtypes: int64(1), object(7)\n",
      "memory usage: 5.5+ MB\n"
     ]
    }
   ],
   "execution_count": 11
  },
  {
   "metadata": {
    "ExecuteTime": {
     "end_time": "2025-08-02T14:15:55.927114Z",
     "start_time": "2025-08-02T14:15:55.902018Z"
    }
   },
   "cell_type": "code",
   "source": "data.describe()",
   "id": "aa765ef429e27913",
   "outputs": [
    {
     "data": {
      "text/plain": [
       "             user_id\n",
       "count   90400.000000\n",
       "mean   498709.683473\n",
       "std    289040.674085\n",
       "min        17.000000\n",
       "25%    247978.750000\n",
       "50%    498267.000000\n",
       "75%    749789.250000\n",
       "max    999979.000000"
      ],
      "text/html": [
       "<div>\n",
       "<style scoped>\n",
       "    .dataframe tbody tr th:only-of-type {\n",
       "        vertical-align: middle;\n",
       "    }\n",
       "\n",
       "    .dataframe tbody tr th {\n",
       "        vertical-align: top;\n",
       "    }\n",
       "\n",
       "    .dataframe thead th {\n",
       "        text-align: right;\n",
       "    }\n",
       "</style>\n",
       "<table border=\"1\" class=\"dataframe\">\n",
       "  <thead>\n",
       "    <tr style=\"text-align: right;\">\n",
       "      <th></th>\n",
       "      <th>user_id</th>\n",
       "    </tr>\n",
       "  </thead>\n",
       "  <tbody>\n",
       "    <tr>\n",
       "      <th>count</th>\n",
       "      <td>90400.000000</td>\n",
       "    </tr>\n",
       "    <tr>\n",
       "      <th>mean</th>\n",
       "      <td>498709.683473</td>\n",
       "    </tr>\n",
       "    <tr>\n",
       "      <th>std</th>\n",
       "      <td>289040.674085</td>\n",
       "    </tr>\n",
       "    <tr>\n",
       "      <th>min</th>\n",
       "      <td>17.000000</td>\n",
       "    </tr>\n",
       "    <tr>\n",
       "      <th>25%</th>\n",
       "      <td>247978.750000</td>\n",
       "    </tr>\n",
       "    <tr>\n",
       "      <th>50%</th>\n",
       "      <td>498267.000000</td>\n",
       "    </tr>\n",
       "    <tr>\n",
       "      <th>75%</th>\n",
       "      <td>749789.250000</td>\n",
       "    </tr>\n",
       "    <tr>\n",
       "      <th>max</th>\n",
       "      <td>999979.000000</td>\n",
       "    </tr>\n",
       "  </tbody>\n",
       "</table>\n",
       "</div>"
      ]
     },
     "execution_count": 12,
     "metadata": {},
     "output_type": "execute_result"
    }
   ],
   "execution_count": 12
  },
  {
   "metadata": {
    "ExecuteTime": {
     "end_time": "2025-08-02T14:15:56.161702Z",
     "start_time": "2025-08-02T14:15:56.153867Z"
    }
   },
   "cell_type": "code",
   "source": [
    "def conversion_rate(data):\n",
    "    rates = []\n",
    "    home_users = data[~data['page_home'].isnull()]\n",
    "    rate1 = 1 - home_users['page_search'].isnull().sum() / len(home_users)\n",
    "    rates.append(rate1)\n",
    "    search_users = data[~data['page_search'].isnull()]\n",
    "    rate2 = 1 - search_users['page_payment'].isnull().sum() / len(search_users)\n",
    "    rates.append(rate2)\n",
    "    payment_users = data[~data['page_payment'].isnull()]\n",
    "    rate3 = 1 - payment_users['page_confirmation'].isnull().sum() / len(payment_users)\n",
    "    rates.append(rate3)\n",
    "    return rates"
   ],
   "id": "608987ef321f703b",
   "outputs": [],
   "execution_count": 13
  },
  {
   "metadata": {
    "ExecuteTime": {
     "end_time": "2025-08-02T14:15:56.449712Z",
     "start_time": "2025-08-02T14:15:56.397522Z"
    }
   },
   "cell_type": "code",
   "source": [
    "overall_rates = conversion_rate(data)\n",
    "steps = ['Home → Search', 'Search → Payment', 'Payment → Confirmation']\n",
    "overall_df = pd.DataFrame({'Step': steps, 'Conversion Rate': overall_rates})"
   ],
   "id": "27475f5803be7306",
   "outputs": [],
   "execution_count": 14
  },
  {
   "metadata": {
    "ExecuteTime": {
     "end_time": "2025-08-02T14:16:12.296810Z",
     "start_time": "2025-08-02T14:16:11.780976Z"
    }
   },
   "cell_type": "code",
   "source": [
    "plt.figure(figsize=(8, 5))\n",
    "sns.barplot(x='Step', y='Conversion Rate', data=overall_df, palette='Blues')\n",
    "plt.title('Overall Funnel Conversion')\n",
    "plt.ylim(0, 1)\n",
    "plt.show()"
   ],
   "id": "912bf35a1706b3b1",
   "outputs": [
    {
     "name": "stderr",
     "output_type": "stream",
     "text": [
      "C:\\Users\\user\\AppData\\Local\\Temp\\ipykernel_12320\\112312239.py:2: FutureWarning: \n",
      "\n",
      "Passing `palette` without assigning `hue` is deprecated and will be removed in v0.14.0. Assign the `x` variable to `hue` and set `legend=False` for the same effect.\n",
      "\n",
      "  sns.barplot(x='Step', y='Conversion Rate', data=overall_df, palette='Blues')\n"
     ]
    },
    {
     "data": {
      "text/plain": [
       "<Figure size 800x500 with 1 Axes>"
      ],
      "image/png": "[encoded data removed]"
     },
     "metadata": {},
     "output_type": "display_data"
    }
   ],
   "execution_count": 15
  },
  {
   "metadata": {
    "ExecuteTime": {
     "end_time": "2025-08-02T14:17:23.755095Z",
     "start_time": "2025-08-02T14:17:23.715424Z"
    }
   },
   "cell_type": "code",
   "source": [
    "desktop_data = data[data['device'] == 'Desktop']\n",
    "mobile_data = data[data['device'] == 'Mobile']"
   ],
   "id": "9832d4b388d622da",
   "outputs": [],
   "execution_count": 16
  },
  {
   "metadata": {
    "ExecuteTime": {
     "end_time": "2025-08-02T14:17:31.078440Z",
     "start_time": "2025-08-02T14:17:31.021249Z"
    }
   },
   "cell_type": "code",
   "source": [
    "desktop_rates = conversion_rate(desktop_data)\n",
    "mobile_rates = conversion_rate(mobile_data)"
   ],
   "id": "98d21f78e99873be",
   "outputs": [],
   "execution_count": 17
  },
  {
   "metadata": {
    "ExecuteTime": {
     "end_time": "2025-08-02T14:17:40.707090Z",
     "start_time": "2025-08-02T14:17:40.700793Z"
    }
   },
   "cell_type": "code",
   "source": [
    "device_df = pd.DataFrame({\n",
    "    'Step': steps * 2,\n",
    "    'Conversion Rate': desktop_rates + mobile_rates,\n",
    "    'Device': ['Desktop'] * 3 + ['Mobile'] * 3\n",
    "})"
   ],
   "id": "769873ef3f016519",
   "outputs": [],
   "execution_count": 18
  },
  {
   "metadata": {
    "ExecuteTime": {
     "end_time": "2025-08-02T14:17:52.194819Z",
     "start_time": "2025-08-02T14:17:51.953423Z"
    }
   },
   "cell_type": "code",
   "source": [
    "plt.figure(figsize=(8, 5))\n",
    "sns.barplot(x='Step', y='Conversion Rate', hue='Device', data=device_df)\n",
    "plt.title('Funnel Conversion by Device')\n",
    "plt.ylim(0, 1)\n",
    "plt.show()"
   ],
   "id": "c1c27cf1ea019e78",
   "outputs": [
    {
     "data": {
      "text/plain": [
       "<Figure size 800x500 with 1 Axes>"
      ],
      "image/png": "[encoded data removed]"
     },
     "metadata": {},
     "output_type": "display_data"
    }
   ],
   "execution_count": 19
  },
  {
   "metadata": {
    "ExecuteTime": {
     "end_time": "2025-08-02T14:18:17.252211Z",
     "start_time": "2025-08-02T14:18:17.219256Z"
    }
   },
   "cell_type": "code",
   "source": [
    "male_data = data[data['sex'] == 'Male']\n",
    "female_data = data[data['sex'] == 'Female']"
   ],
   "id": "5e1047ac0bda5148",
   "outputs": [],
   "execution_count": 20
  },
  {
   "metadata": {
    "ExecuteTime": {
     "end_time": "2025-08-02T14:18:24.661625Z",
     "start_time": "2025-08-02T14:18:24.606776Z"
    }
   },
   "cell_type": "code",
   "source": [
    "male_rates = conversion_rate(male_data)\n",
    "female_rates = conversion_rate(female_data)"
   ],
   "id": "83d81342451c42f0",
   "outputs": [],
   "execution_count": 21
  },
  {
   "metadata": {
    "ExecuteTime": {
     "end_time": "2025-08-02T14:18:30.966032Z",
     "start_time": "2025-08-02T14:18:30.959279Z"
    }
   },
   "cell_type": "code",
   "source": [
    "sex_df = pd.DataFrame({\n",
    "    'Step': steps * 2,\n",
    "    'Conversion Rate': male_rates + female_rates,\n",
    "    'Sex': ['Male'] * 3 + ['Female'] * 3\n",
    "})"
   ],
   "id": "ef02d8fa529236ec",
   "outputs": [],
   "execution_count": 22
  },
  {
   "metadata": {
    "ExecuteTime": {
     "end_time": "2025-08-02T14:18:40.750186Z",
     "start_time": "2025-08-02T14:18:40.481301Z"
    }
   },
   "cell_type": "code",
   "source": [
    "plt.figure(figsize=(8, 5))\n",
    "sns.barplot(x='Step', y='Conversion Rate', hue='Sex', data=sex_df, palette='Set2')\n",
    "plt.title('Funnel Conversion by Sex')\n",
    "plt.ylim(0, 1)\n",
    "plt.show()"
   ],
   "id": "1e83e490a1e71752",
   "outputs": [
    {
     "data": {
      "text/plain": [
       "<Figure size 800x500 with 1 Axes>"
      ],
      "image/png": "[encoded data removed]"
     },
     "metadata": {},
     "output_type": "display_data"
    }
   ],
   "execution_count": 23
  },
  {
   "metadata": {},
   "cell_type": "code",
   "outputs": [],
   "execution_count": null,
   "source": "",
   "id": "eb63bb0405d9335b"
  },
  {
   "metadata": {},
   "cell_type": "code",
   "outputs": [],
   "execution_count": null,
   "source": "",
   "id": "a70e08ef5b576ebf"
  }
 ],
 "metadata": {
  "kernelspec": {
   "display_name": "Python 3",
   "language": "python",
   "name": "python3"
  },
  "language_info": {
   "codemirror_mode": {
    "name": "ipython",
    "version": 2
   },
   "file_extension": ".py",
   "mimetype": "text/x-python",
   "name": "python",
   "nbconvert_exporter": "python",
   "pygments_lexer": "ipython2",
   "version": "2.7.6"
  }
 },
 "nbformat": 4,
 "nbformat_minor": 5
}
