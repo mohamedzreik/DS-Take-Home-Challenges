{
 "cells": [
  {
   "metadata": {
    "collapsed": true
   },
   "cell_type": "markdown",
   "source": [
    "### Clustering Grocery Items\n",
    "## Goal\n",
    "Online shops often sell tons of different items and this can become very messy very quickly!\n",
    "Data science can be extremely useful to automatically organize the products in categories so\n",
    "that they can be easily found by the customers.\n",
    "The goal of this challenge is to look at user purchase history and create categories of items that\n",
    "are likely to be bought together and, therefore, should belong to the same section.\n",
    "Challenge Description\n",
    "Company XYZ is an online grocery store. In the current version of the website, they have\n",
    "manually grouped the items into a few categories based on their experience.\n",
    "However, they now have a lot of data about user purchase history. Therefore, they would like to\n",
    "put the data into use!\n",
    "### This is what they asked you to do:\n",
    "## The company founder wants to meet with some of the best customers to go through a focus group with them. You are asked to send the ID of the following customers to the founder:\n",
    "## the customer who bought the most items overall in her lifetime\n",
    "## for each item, the customer who bought that product the most\n",
    "## Cluster items based on user co-purchase history. That is, create clusters of products that have the highest probability of being bought together. The goal of this is to replace theold/manually created categories with these new ones. Each item can belong to just one cluster."
   ],
   "id": "4baae36c8d625501"
  },
  {
   "metadata": {
    "ExecuteTime": {
     "end_time": "2025-08-09T04:05:54.712963Z",
     "start_time": "2025-08-09T04:05:54.702480Z"
    }
   },
   "cell_type": "code",
   "source": "import pandas as pd",
   "id": "f96007c6f6519ae",
   "outputs": [],
   "execution_count": 61
  },
  {
   "metadata": {
    "ExecuteTime": {
     "end_time": "2025-08-09T04:05:54.817596Z",
     "start_time": "2025-08-09T04:05:54.763540Z"
    }
   },
   "cell_type": "code",
   "source": [
    "purvhase = pd.read_csv('purchase_history.csv')\n",
    "item = pd.read_csv('item_to_id.csv')"
   ],
   "id": "d4b4f2cbaaba530f",
   "outputs": [],
   "execution_count": 62
  },
  {
   "metadata": {
    "ExecuteTime": {
     "end_time": "2025-08-09T04:05:54.858504Z",
     "start_time": "2025-08-09T04:05:54.840643Z"
    }
   },
   "cell_type": "code",
   "source": "purvhase.head()",
   "id": "c2e753f3d02b6276",
   "outputs": [
    {
     "data": {
      "text/plain": [
       "   user_id                                                 id\n",
       "0   222087                                              27,26\n",
       "1  1343649                                            6,47,17\n",
       "2   404134                       18,12,23,22,27,43,38,20,35,1\n",
       "3  1110200                                 9,23,2,20,26,47,37\n",
       "4   224107  31,18,5,13,1,21,48,16,26,2,44,32,20,37,42,35,4..."
      ],
      "text/html": [
       "<div>\n",
       "<style scoped>\n",
       "    .dataframe tbody tr th:only-of-type {\n",
       "        vertical-align: middle;\n",
       "    }\n",
       "\n",
       "    .dataframe tbody tr th {\n",
       "        vertical-align: top;\n",
       "    }\n",
       "\n",
       "    .dataframe thead th {\n",
       "        text-align: right;\n",
       "    }\n",
       "</style>\n",
       "<table border=\"1\" class=\"dataframe\">\n",
       "  <thead>\n",
       "    <tr style=\"text-align: right;\">\n",
       "      <th></th>\n",
       "      <th>user_id</th>\n",
       "      <th>id</th>\n",
       "    </tr>\n",
       "  </thead>\n",
       "  <tbody>\n",
       "    <tr>\n",
       "      <th>0</th>\n",
       "      <td>222087</td>\n",
       "      <td>27,26</td>\n",
       "    </tr>\n",
       "    <tr>\n",
       "      <th>1</th>\n",
       "      <td>1343649</td>\n",
       "      <td>6,47,17</td>\n",
       "    </tr>\n",
       "    <tr>\n",
       "      <th>2</th>\n",
       "      <td>404134</td>\n",
       "      <td>18,12,23,22,27,43,38,20,35,1</td>\n",
       "    </tr>\n",
       "    <tr>\n",
       "      <th>3</th>\n",
       "      <td>1110200</td>\n",
       "      <td>9,23,2,20,26,47,37</td>\n",
       "    </tr>\n",
       "    <tr>\n",
       "      <th>4</th>\n",
       "      <td>224107</td>\n",
       "      <td>31,18,5,13,1,21,48,16,26,2,44,32,20,37,42,35,4...</td>\n",
       "    </tr>\n",
       "  </tbody>\n",
       "</table>\n",
       "</div>"
      ]
     },
     "execution_count": 63,
     "metadata": {},
     "output_type": "execute_result"
    }
   ],
   "execution_count": 63
  },
  {
   "metadata": {
    "ExecuteTime": {
     "end_time": "2025-08-09T04:05:55.010534Z",
     "start_time": "2025-08-09T04:05:54.987475Z"
    }
   },
   "cell_type": "code",
   "source": "purvhase.info()",
   "id": "8c0af7d1b19eeb58",
   "outputs": [
    {
     "name": "stdout",
     "output_type": "stream",
     "text": [
      "<class 'pandas.core.frame.DataFrame'>\n",
      "RangeIndex: 39474 entries, 0 to 39473\n",
      "Data columns (total 2 columns):\n",
      " #   Column   Non-Null Count  Dtype \n",
      "---  ------   --------------  ----- \n",
      " 0   user_id  39474 non-null  int64 \n",
      " 1   id       39474 non-null  object\n",
      "dtypes: int64(1), object(1)\n",
      "memory usage: 616.9+ KB\n"
     ]
    }
   ],
   "execution_count": 64
  },
  {
   "metadata": {
    "ExecuteTime": {
     "end_time": "2025-08-09T04:05:55.251775Z",
     "start_time": "2025-08-09T04:05:55.224432Z"
    }
   },
   "cell_type": "code",
   "source": "purvhase.describe()",
   "id": "bcd240ff47c5625e",
   "outputs": [
    {
     "data": {
      "text/plain": [
       "            user_id\n",
       "count  3.947400e+04\n",
       "mean   7.520149e+05\n",
       "std    4.337258e+05\n",
       "min    4.700000e+01\n",
       "25%    3.735672e+05\n",
       "50%    7.535835e+05\n",
       "75%    1.124939e+06\n",
       "max    1.499974e+06"
      ],
      "text/html": [
       "<div>\n",
       "<style scoped>\n",
       "    .dataframe tbody tr th:only-of-type {\n",
       "        vertical-align: middle;\n",
       "    }\n",
       "\n",
       "    .dataframe tbody tr th {\n",
       "        vertical-align: top;\n",
       "    }\n",
       "\n",
       "    .dataframe thead th {\n",
       "        text-align: right;\n",
       "    }\n",
       "</style>\n",
       "<table border=\"1\" class=\"dataframe\">\n",
       "  <thead>\n",
       "    <tr style=\"text-align: right;\">\n",
       "      <th></th>\n",
       "      <th>user_id</th>\n",
       "    </tr>\n",
       "  </thead>\n",
       "  <tbody>\n",
       "    <tr>\n",
       "      <th>count</th>\n",
       "      <td>3.947400e+04</td>\n",
       "    </tr>\n",
       "    <tr>\n",
       "      <th>mean</th>\n",
       "      <td>7.520149e+05</td>\n",
       "    </tr>\n",
       "    <tr>\n",
       "      <th>std</th>\n",
       "      <td>4.337258e+05</td>\n",
       "    </tr>\n",
       "    <tr>\n",
       "      <th>min</th>\n",
       "      <td>4.700000e+01</td>\n",
       "    </tr>\n",
       "    <tr>\n",
       "      <th>25%</th>\n",
       "      <td>3.735672e+05</td>\n",
       "    </tr>\n",
       "    <tr>\n",
       "      <th>50%</th>\n",
       "      <td>7.535835e+05</td>\n",
       "    </tr>\n",
       "    <tr>\n",
       "      <th>75%</th>\n",
       "      <td>1.124939e+06</td>\n",
       "    </tr>\n",
       "    <tr>\n",
       "      <th>max</th>\n",
       "      <td>1.499974e+06</td>\n",
       "    </tr>\n",
       "  </tbody>\n",
       "</table>\n",
       "</div>"
      ]
     },
     "execution_count": 65,
     "metadata": {},
     "output_type": "execute_result"
    }
   ],
   "execution_count": 65
  },
  {
   "metadata": {
    "ExecuteTime": {
     "end_time": "2025-08-09T04:05:55.535472Z",
     "start_time": "2025-08-09T04:05:55.513930Z"
    }
   },
   "cell_type": "code",
   "source": "item.head()",
   "id": "f8993d7f8442bf03",
   "outputs": [
    {
     "data": {
      "text/plain": [
       "         Item_name  Item_id\n",
       "0           coffee       43\n",
       "1              tea       23\n",
       "2            juice       38\n",
       "3             soda        9\n",
       "4  sandwich loaves       39"
      ],
      "text/html": [
       "<div>\n",
       "<style scoped>\n",
       "    .dataframe tbody tr th:only-of-type {\n",
       "        vertical-align: middle;\n",
       "    }\n",
       "\n",
       "    .dataframe tbody tr th {\n",
       "        vertical-align: top;\n",
       "    }\n",
       "\n",
       "    .dataframe thead th {\n",
       "        text-align: right;\n",
       "    }\n",
       "</style>\n",
       "<table border=\"1\" class=\"dataframe\">\n",
       "  <thead>\n",
       "    <tr style=\"text-align: right;\">\n",
       "      <th></th>\n",
       "      <th>Item_name</th>\n",
       "      <th>Item_id</th>\n",
       "    </tr>\n",
       "  </thead>\n",
       "  <tbody>\n",
       "    <tr>\n",
       "      <th>0</th>\n",
       "      <td>coffee</td>\n",
       "      <td>43</td>\n",
       "    </tr>\n",
       "    <tr>\n",
       "      <th>1</th>\n",
       "      <td>tea</td>\n",
       "      <td>23</td>\n",
       "    </tr>\n",
       "    <tr>\n",
       "      <th>2</th>\n",
       "      <td>juice</td>\n",
       "      <td>38</td>\n",
       "    </tr>\n",
       "    <tr>\n",
       "      <th>3</th>\n",
       "      <td>soda</td>\n",
       "      <td>9</td>\n",
       "    </tr>\n",
       "    <tr>\n",
       "      <th>4</th>\n",
       "      <td>sandwich loaves</td>\n",
       "      <td>39</td>\n",
       "    </tr>\n",
       "  </tbody>\n",
       "</table>\n",
       "</div>"
      ]
     },
     "execution_count": 66,
     "metadata": {},
     "output_type": "execute_result"
    }
   ],
   "execution_count": 66
  },
  {
   "metadata": {
    "ExecuteTime": {
     "end_time": "2025-08-09T04:05:56.158661Z",
     "start_time": "2025-08-09T04:05:56.145047Z"
    }
   },
   "cell_type": "code",
   "source": "print(len(item['Item_name'].unique()))",
   "id": "ee78f47322483228",
   "outputs": [
    {
     "name": "stdout",
     "output_type": "stream",
     "text": [
      "48\n"
     ]
    }
   ],
   "execution_count": 67
  },
  {
   "metadata": {
    "ExecuteTime": {
     "end_time": "2025-08-09T04:05:56.369641Z",
     "start_time": "2025-08-09T04:05:56.337840Z"
    }
   },
   "cell_type": "code",
   "source": "item.describe()",
   "id": "9994e325be6a69c4",
   "outputs": [
    {
     "data": {
      "text/plain": [
       "       Item_id\n",
       "count    48.00\n",
       "mean     24.50\n",
       "std      14.00\n",
       "min       1.00\n",
       "25%      12.75\n",
       "50%      24.50\n",
       "75%      36.25\n",
       "max      48.00"
      ],
      "text/html": [
       "<div>\n",
       "<style scoped>\n",
       "    .dataframe tbody tr th:only-of-type {\n",
       "        vertical-align: middle;\n",
       "    }\n",
       "\n",
       "    .dataframe tbody tr th {\n",
       "        vertical-align: top;\n",
       "    }\n",
       "\n",
       "    .dataframe thead th {\n",
       "        text-align: right;\n",
       "    }\n",
       "</style>\n",
       "<table border=\"1\" class=\"dataframe\">\n",
       "  <thead>\n",
       "    <tr style=\"text-align: right;\">\n",
       "      <th></th>\n",
       "      <th>Item_id</th>\n",
       "    </tr>\n",
       "  </thead>\n",
       "  <tbody>\n",
       "    <tr>\n",
       "      <th>count</th>\n",
       "      <td>48.00</td>\n",
       "    </tr>\n",
       "    <tr>\n",
       "      <th>mean</th>\n",
       "      <td>24.50</td>\n",
       "    </tr>\n",
       "    <tr>\n",
       "      <th>std</th>\n",
       "      <td>14.00</td>\n",
       "    </tr>\n",
       "    <tr>\n",
       "      <th>min</th>\n",
       "      <td>1.00</td>\n",
       "    </tr>\n",
       "    <tr>\n",
       "      <th>25%</th>\n",
       "      <td>12.75</td>\n",
       "    </tr>\n",
       "    <tr>\n",
       "      <th>50%</th>\n",
       "      <td>24.50</td>\n",
       "    </tr>\n",
       "    <tr>\n",
       "      <th>75%</th>\n",
       "      <td>36.25</td>\n",
       "    </tr>\n",
       "    <tr>\n",
       "      <th>max</th>\n",
       "      <td>48.00</td>\n",
       "    </tr>\n",
       "  </tbody>\n",
       "</table>\n",
       "</div>"
      ]
     },
     "execution_count": 68,
     "metadata": {},
     "output_type": "execute_result"
    }
   ],
   "execution_count": 68
  },
  {
   "metadata": {
    "ExecuteTime": {
     "end_time": "2025-08-09T04:05:56.574092Z",
     "start_time": "2025-08-09T04:05:56.547937Z"
    }
   },
   "cell_type": "code",
   "source": "item.info()",
   "id": "82b3b33dec50d439",
   "outputs": [
    {
     "name": "stdout",
     "output_type": "stream",
     "text": [
      "<class 'pandas.core.frame.DataFrame'>\n",
      "RangeIndex: 48 entries, 0 to 47\n",
      "Data columns (total 2 columns):\n",
      " #   Column     Non-Null Count  Dtype \n",
      "---  ------     --------------  ----- \n",
      " 0   Item_name  48 non-null     object\n",
      " 1   Item_id    48 non-null     int64 \n",
      "dtypes: int64(1), object(1)\n",
      "memory usage: 900.0+ bytes\n"
     ]
    }
   ],
   "execution_count": 69
  },
  {
   "metadata": {
    "ExecuteTime": {
     "end_time": "2025-08-09T04:06:01.038617Z",
     "start_time": "2025-08-09T04:05:56.901501Z"
    }
   },
   "cell_type": "code",
   "source": [
    "# Split the comma-separated item IDs and expand into separate rows\n",
    "expanded_purchases = []\n",
    "for _, row in purvhase.iterrows():\n",
    "    user_id = row['user_id']\n",
    "    item_list = str(row['id']).split(',')\n",
    "    for item_id in item_list:\n",
    "        expanded_purchases.append({\n",
    "            'user_id': user_id,\n",
    "            'item_id': item_id.strip()\n",
    "        })\n",
    "expanded_df = pd.DataFrame(expanded_purchases)\n",
    "user_item_counts = expanded_df['user_id'].value_counts()\n",
    "top_customer_id = user_item_counts.index[0]\n",
    "total_items_bought = user_item_counts.iloc[0]\n",
    "print(f\"Top customer ID: {top_customer_id}\")\n",
    "print(f\"Total items bought: {total_items_bought}\")"
   ],
   "id": "de8b22d20435658b",
   "outputs": [
    {
     "name": "stdout",
     "output_type": "stream",
     "text": [
      "Top customer ID: 269335\n",
      "Total items bought: 72\n"
     ]
    }
   ],
   "execution_count": 70
  },
  {
   "metadata": {},
   "cell_type": "code",
   "outputs": [],
   "execution_count": null,
   "source": "",
   "id": "f9d4caa840583c6a"
  }
 ],
 "metadata": {
  "kernelspec": {
   "display_name": "Python 3",
   "language": "python",
   "name": "python3"
  },
  "language_info": {
   "codemirror_mode": {
    "name": "ipython",
    "version": 2
   },
   "file_extension": ".py",
   "mimetype": "text/x-python",
   "name": "python",
   "nbconvert_exporter": "python",
   "pygments_lexer": "ipython2",
   "version": "2.7.6"
  }
 },
 "nbformat": 4,
 "nbformat_minor": 5
}
