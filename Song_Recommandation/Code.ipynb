{
 "cells": [
  {
   "metadata": {},
   "cell_type": "markdown",
   "source": [
    "# Song Challenge\n",
    "## Goal\n",
    "Company XYZ is a very early stage startup. They allow people to stream music from their mobile\n",
    "for free. Right now, they still only have songs from the Beatles in their music collection, but they\n",
    "are planning to expand soon.\n",
    "They still have all their data in json files and they are interested in getting some basic info about\n",
    "their users as well as building a very preliminary song recommendation model in order to\n",
    "increase user engagement.\n",
    "Working with 􀁑son files is important􀀕 􀀰f you join a very early stage start-up, they might not have a\n",
    "nice database and all data will be in jsons. Third party data are often stored in json files as well.\n",
    "## Challenge Description\n",
    "You are the fifth employee at company XYZ. The good news is that if the company becomes\n",
    "big, you will become very rich with the stocks. The bad news is that, at such an early stage, the\n",
    "data is usually very messy. All their data is stored in json files.\n",
    "The company CEO asked you very specific questions:\n",
    "\n",
    "#### 1-What are the top 3 and the bottom 3 states in terms of number of users?\n",
    "#### 2-What are the top 3 and the bottom 3 states in terms of user engagement? You can choose how to mathematically define user engagement. What the CEO cares about here is in which states users are using the product a lot/very little.\n",
    "#### 3-The CEO wants to send a gift to the first user who signed-up for each state. That is, the first user who signed-up from California, from Oregon, etc. Can you give him a list of those users?\n",
    "#### 4-Build a function that takes as an input any of the songs in the data and returns the most likely song to be listened next. That is, if, for instance, a user is currently listening to \"Eight Days A Week\", which song has the highest probability of being played right after it by the same user? This is going to be v1 of a song recommendation model."
   ],
   "id": "bad4e6be4c4a5778"
  },
  {
   "cell_type": "code",
   "id": "initial_id",
   "metadata": {
    "collapsed": true,
    "ExecuteTime": {
     "end_time": "2025-08-16T09:14:56.840478Z",
     "start_time": "2025-08-16T09:14:56.832987Z"
    }
   },
   "source": [
    "import numpy as np\n",
    "import pandas as pd\n",
    "import seaborn as sns\n",
    "import matplotlib.pyplot as plt"
   ],
   "outputs": [],
   "execution_count": 1
  },
  {
   "metadata": {
    "ExecuteTime": {
     "end_time": "2025-08-16T09:15:20.272067Z",
     "start_time": "2025-08-16T09:15:20.218068Z"
    }
   },
   "cell_type": "code",
   "source": "song = pd.read_json('song.json')",
   "id": "95b74ed75886ee0",
   "outputs": [],
   "execution_count": 2
  },
  {
   "metadata": {
    "ExecuteTime": {
     "end_time": "2025-08-16T09:15:57.889258Z",
     "start_time": "2025-08-16T09:15:57.867764Z"
    }
   },
   "cell_type": "code",
   "source": "song.head()",
   "id": "baa31285ff3572f",
   "outputs": [
    {
     "data": {
      "text/plain": [
       "           id  user_id  user_state user_sign_up_date  \\\n",
       "0  GOQMMKSQQH      122   Louisiana        2015-05-16   \n",
       "1  HWKKBQKNWI        3        Ohio        2015-05-01   \n",
       "2  DKQSXVNJDH       35  New Jersey        2015-05-04   \n",
       "3  HLHRIDQTUW      126    Illinois        2015-05-16   \n",
       "4  SUKJCSBCYW        6  New Jersey        2015-05-01   \n",
       "\n",
       "                             song_played          time_played  \n",
       "0                               Hey Jude  2015-06-11 21:51:35  \n",
       "1                     We Can Work It Out  2015-06-06 16:49:19  \n",
       "2                   Back In the U.S.S.R.  2015-06-14 02:11:29  \n",
       "3                        P.s. I Love You  2015-06-08 12:26:10  \n",
       "4  Sgt. Pepper's Lonely Hearts Club Band  2015-06-28 14:57:00  "
      ],
      "text/html": [
       "<div>\n",
       "<style scoped>\n",
       "    .dataframe tbody tr th:only-of-type {\n",
       "        vertical-align: middle;\n",
       "    }\n",
       "\n",
       "    .dataframe tbody tr th {\n",
       "        vertical-align: top;\n",
       "    }\n",
       "\n",
       "    .dataframe thead th {\n",
       "        text-align: right;\n",
       "    }\n",
       "</style>\n",
       "<table border=\"1\" class=\"dataframe\">\n",
       "  <thead>\n",
       "    <tr style=\"text-align: right;\">\n",
       "      <th></th>\n",
       "      <th>id</th>\n",
       "      <th>user_id</th>\n",
       "      <th>user_state</th>\n",
       "      <th>user_sign_up_date</th>\n",
       "      <th>song_played</th>\n",
       "      <th>time_played</th>\n",
       "    </tr>\n",
       "  </thead>\n",
       "  <tbody>\n",
       "    <tr>\n",
       "      <th>0</th>\n",
       "      <td>GOQMMKSQQH</td>\n",
       "      <td>122</td>\n",
       "      <td>Louisiana</td>\n",
       "      <td>2015-05-16</td>\n",
       "      <td>Hey Jude</td>\n",
       "      <td>2015-06-11 21:51:35</td>\n",
       "    </tr>\n",
       "    <tr>\n",
       "      <th>1</th>\n",
       "      <td>HWKKBQKNWI</td>\n",
       "      <td>3</td>\n",
       "      <td>Ohio</td>\n",
       "      <td>2015-05-01</td>\n",
       "      <td>We Can Work It Out</td>\n",
       "      <td>2015-06-06 16:49:19</td>\n",
       "    </tr>\n",
       "    <tr>\n",
       "      <th>2</th>\n",
       "      <td>DKQSXVNJDH</td>\n",
       "      <td>35</td>\n",
       "      <td>New Jersey</td>\n",
       "      <td>2015-05-04</td>\n",
       "      <td>Back In the U.S.S.R.</td>\n",
       "      <td>2015-06-14 02:11:29</td>\n",
       "    </tr>\n",
       "    <tr>\n",
       "      <th>3</th>\n",
       "      <td>HLHRIDQTUW</td>\n",
       "      <td>126</td>\n",
       "      <td>Illinois</td>\n",
       "      <td>2015-05-16</td>\n",
       "      <td>P.s. I Love You</td>\n",
       "      <td>2015-06-08 12:26:10</td>\n",
       "    </tr>\n",
       "    <tr>\n",
       "      <th>4</th>\n",
       "      <td>SUKJCSBCYW</td>\n",
       "      <td>6</td>\n",
       "      <td>New Jersey</td>\n",
       "      <td>2015-05-01</td>\n",
       "      <td>Sgt. Pepper's Lonely Hearts Club Band</td>\n",
       "      <td>2015-06-28 14:57:00</td>\n",
       "    </tr>\n",
       "  </tbody>\n",
       "</table>\n",
       "</div>"
      ]
     },
     "execution_count": 4,
     "metadata": {},
     "output_type": "execute_result"
    }
   ],
   "execution_count": 4
  },
  {
   "metadata": {
    "ExecuteTime": {
     "end_time": "2025-08-16T09:16:10.856648Z",
     "start_time": "2025-08-16T09:16:10.830749Z"
    }
   },
   "cell_type": "code",
   "source": "song.info()",
   "id": "404e2d937fdd7428",
   "outputs": [
    {
     "name": "stdout",
     "output_type": "stream",
     "text": [
      "<class 'pandas.core.frame.DataFrame'>\n",
      "RangeIndex: 4000 entries, 0 to 3999\n",
      "Data columns (total 6 columns):\n",
      " #   Column             Non-Null Count  Dtype \n",
      "---  ------             --------------  ----- \n",
      " 0   id                 4000 non-null   object\n",
      " 1   user_id            4000 non-null   int64 \n",
      " 2   user_state         4000 non-null   object\n",
      " 3   user_sign_up_date  4000 non-null   object\n",
      " 4   song_played        4000 non-null   object\n",
      " 5   time_played        4000 non-null   object\n",
      "dtypes: int64(1), object(5)\n",
      "memory usage: 187.6+ KB\n"
     ]
    }
   ],
   "execution_count": 6
  },
  {
   "metadata": {
    "ExecuteTime": {
     "end_time": "2025-08-16T09:16:55.892215Z",
     "start_time": "2025-08-16T09:16:55.865390Z"
    }
   },
   "cell_type": "code",
   "source": "song.describe()",
   "id": "c15725c54b3e6e69",
   "outputs": [
    {
     "data": {
      "text/plain": [
       "           user_id\n",
       "count  4000.000000\n",
       "mean    101.574000\n",
       "std      58.766835\n",
       "min       1.000000\n",
       "25%      48.000000\n",
       "50%     102.000000\n",
       "75%     155.000000\n",
       "max     200.000000"
      ],
      "text/html": [
       "<div>\n",
       "<style scoped>\n",
       "    .dataframe tbody tr th:only-of-type {\n",
       "        vertical-align: middle;\n",
       "    }\n",
       "\n",
       "    .dataframe tbody tr th {\n",
       "        vertical-align: top;\n",
       "    }\n",
       "\n",
       "    .dataframe thead th {\n",
       "        text-align: right;\n",
       "    }\n",
       "</style>\n",
       "<table border=\"1\" class=\"dataframe\">\n",
       "  <thead>\n",
       "    <tr style=\"text-align: right;\">\n",
       "      <th></th>\n",
       "      <th>user_id</th>\n",
       "    </tr>\n",
       "  </thead>\n",
       "  <tbody>\n",
       "    <tr>\n",
       "      <th>count</th>\n",
       "      <td>4000.000000</td>\n",
       "    </tr>\n",
       "    <tr>\n",
       "      <th>mean</th>\n",
       "      <td>101.574000</td>\n",
       "    </tr>\n",
       "    <tr>\n",
       "      <th>std</th>\n",
       "      <td>58.766835</td>\n",
       "    </tr>\n",
       "    <tr>\n",
       "      <th>min</th>\n",
       "      <td>1.000000</td>\n",
       "    </tr>\n",
       "    <tr>\n",
       "      <th>25%</th>\n",
       "      <td>48.000000</td>\n",
       "    </tr>\n",
       "    <tr>\n",
       "      <th>50%</th>\n",
       "      <td>102.000000</td>\n",
       "    </tr>\n",
       "    <tr>\n",
       "      <th>75%</th>\n",
       "      <td>155.000000</td>\n",
       "    </tr>\n",
       "    <tr>\n",
       "      <th>max</th>\n",
       "      <td>200.000000</td>\n",
       "    </tr>\n",
       "  </tbody>\n",
       "</table>\n",
       "</div>"
      ]
     },
     "execution_count": 7,
     "metadata": {},
     "output_type": "execute_result"
    }
   ],
   "execution_count": 7
  },
  {
   "metadata": {
    "ExecuteTime": {
     "end_time": "2025-08-16T09:18:12.038652Z",
     "start_time": "2025-08-16T09:18:12.010848Z"
    }
   },
   "cell_type": "code",
   "source": [
    "for col in song.columns:\n",
    "    print(song[col].value_counts())"
   ],
   "id": "37d7484621132f76",
   "outputs": [
    {
     "name": "stdout",
     "output_type": "stream",
     "text": [
      "id\n",
      "RFNSPZLYYC    1\n",
      "PGKFYSWGYC    1\n",
      "GZWDHMNTML    1\n",
      "EHKNWVHOWT    1\n",
      "VLKFPMHZUG    1\n",
      "             ..\n",
      "SUKJCSBCYW    1\n",
      "HLHRIDQTUW    1\n",
      "DKQSXVNJDH    1\n",
      "HWKKBQKNWI    1\n",
      "GOQMMKSQQH    1\n",
      "Name: count, Length: 4000, dtype: int64\n",
      "user_id\n",
      "42     52\n",
      "98     45\n",
      "49     44\n",
      "193    43\n",
      "55     42\n",
      "       ..\n",
      "8       2\n",
      "50      2\n",
      "129     1\n",
      "63      1\n",
      "21      1\n",
      "Name: count, Length: 196, dtype: int64\n",
      "user_state\n",
      "New York          469\n",
      "California        425\n",
      "Texas             230\n",
      "Ohio              209\n",
      "Florida           180\n",
      "Pennsylvania      179\n",
      "North Carolina    154\n",
      "Illinois          149\n",
      "Georgia           135\n",
      "Missouri          127\n",
      "New Jersey        117\n",
      "Maryland          112\n",
      "Louisiana         105\n",
      "Alabama           104\n",
      "Tennessee         102\n",
      "Wisconsin          95\n",
      "Massachusetts      91\n",
      "Mississippi        85\n",
      "South Carolina     85\n",
      "Michigan           80\n",
      "Kentucky           78\n",
      "Oregon             62\n",
      "Alaska             58\n",
      "Indiana            55\n",
      "Colorado           54\n",
      "Oklahoma           49\n",
      "Minnesota          42\n",
      "Washington         41\n",
      "West Virginia      38\n",
      "Utah               38\n",
      "Nebraska           36\n",
      "Arkansas           34\n",
      "Rhode Island       27\n",
      "North Dakota       26\n",
      "Idaho              26\n",
      "Iowa               23\n",
      "Arizona            22\n",
      "New Mexico         17\n",
      "Virginia           17\n",
      "Connecticut        16\n",
      "Kansas              8\n",
      "Name: count, dtype: int64\n",
      "user_sign_up_date\n",
      "2015-05-19    532\n",
      "2015-05-20    470\n",
      "2015-05-02    388\n",
      "2015-05-16    358\n",
      "2015-05-04    353\n",
      "2015-05-08    273\n",
      "2015-05-12    239\n",
      "2015-05-07    230\n",
      "2015-05-18    180\n",
      "2015-05-09    150\n",
      "2015-05-17    147\n",
      "2015-05-14    145\n",
      "2015-05-06    124\n",
      "2015-05-01    122\n",
      "2015-05-10     72\n",
      "2015-05-03     67\n",
      "2015-05-15     50\n",
      "2015-05-11     44\n",
      "2015-05-13     43\n",
      "2015-05-05     13\n",
      "Name: count, dtype: int64\n",
      "song_played\n",
      "Come Together                          408\n",
      "Revolution                             321\n",
      "Get Back                               279\n",
      "A Day In The Life                      189\n",
      "Let It Be                              184\n",
      "                                      ... \n",
      "When I'm 64                              3\n",
      "A Saturday Club Xmas/Crimble Medley      2\n",
      "THE CONTINUING STORY OF BUNG             2\n",
      "You're Going To Lose That Girl           2\n",
      "I'm Down                                 2\n",
      "Name: count, Length: 97, dtype: int64\n",
      "time_played\n",
      "2015-06-06 08:42:20    2\n",
      "2015-06-15 13:23:02    2\n",
      "2015-06-25 20:04:25    2\n",
      "2015-06-25 05:27:55    1\n",
      "2015-06-25 18:13:41    1\n",
      "                      ..\n",
      "2015-06-25 12:23:05    1\n",
      "2015-06-15 13:53:01    1\n",
      "2015-06-20 17:15:18    1\n",
      "2015-06-03 09:57:02    1\n",
      "2015-06-28 21:44:20    1\n",
      "Name: count, Length: 3997, dtype: int64\n"
     ]
    }
   ],
   "execution_count": 9
  },
  {
   "metadata": {
    "ExecuteTime": {
     "end_time": "2025-08-16T09:21:57.707849Z",
     "start_time": "2025-08-16T09:21:57.681406Z"
    }
   },
   "cell_type": "code",
   "source": [
    "song['time_played'] = pd.to_datetime(song['time_played'])\n",
    "song['user_sign_up_date'] = pd.to_datetime(song['user_sign_up_date'])"
   ],
   "id": "5236cad6896f3a19",
   "outputs": [],
   "execution_count": 10
  },
  {
   "metadata": {},
   "cell_type": "markdown",
   "source": [
    "First question :\n",
    "1-What are the top 3 and the bottom 3 states in terms of number of users?"
   ],
   "id": "b9b4baee00a91a84"
  },
  {
   "metadata": {
    "ExecuteTime": {
     "end_time": "2025-08-16T09:25:34.633605Z",
     "start_time": "2025-08-16T09:25:34.617407Z"
    }
   },
   "cell_type": "code",
   "source": "users_per_state = song.groupby('user_state')['user_id'].nunique().sort_values(ascending=False)",
   "id": "647f164bd88872d3",
   "outputs": [],
   "execution_count": 11
  },
  {
   "metadata": {
    "ExecuteTime": {
     "end_time": "2025-08-16T09:26:39.933041Z",
     "start_time": "2025-08-16T09:26:39.926369Z"
    }
   },
   "cell_type": "code",
   "source": [
    "print(\"TOP 3 STATES :\")\n",
    "top_3 = users_per_state.head(3)\n",
    "for i, (state, count) in enumerate(top_3.items(), 1):\n",
    "    print(f\"{i}. {state}: {count} users\")"
   ],
   "id": "4d1d67a61b243a13",
   "outputs": [
    {
     "name": "stdout",
     "output_type": "stream",
     "text": [
      "TOP 3 STATES:\n",
      "1. New York: 23 users\n",
      "2. California: 21 users\n",
      "3. Texas: 15 users\n"
     ]
    }
   ],
   "execution_count": 12
  },
  {
   "metadata": {
    "ExecuteTime": {
     "end_time": "2025-08-16T09:27:33.126287Z",
     "start_time": "2025-08-16T09:27:33.118077Z"
    }
   },
   "cell_type": "code",
   "source": [
    "print(\"BOTTOM 3 STATES :\")\n",
    "bottom_3 = users_per_state.tail(3)\n",
    "for i, (state, count) in enumerate(reversed(list(bottom_3.items())), 1):\n",
    "    print(f\"{i}. {state}: {count} users\")"
   ],
   "id": "3fc9b407e6583f46",
   "outputs": [
    {
     "name": "stdout",
     "output_type": "stream",
     "text": [
      "BOTTOM 3 STATES :\n",
      "1. North Dakota: 1 users\n",
      "2. Rhode Island: 1 users\n",
      "3. Nebraska: 1 users\n"
     ]
    }
   ],
   "execution_count": 13
  },
  {
   "metadata": {},
   "cell_type": "markdown",
   "source": [
    "Second question :\n",
    "2-What are the top 3 and the bottom 3 states in terms of user engagement? You can choose how to mathematically define user engagement. What the CEO cares about here is in which states users are using the product a lot/very little."
   ],
   "id": "a675dd1f19508c08"
  },
  {
   "metadata": {
    "ExecuteTime": {
     "end_time": "2025-08-16T09:29:55.909303Z",
     "start_time": "2025-08-16T09:29:55.893602Z"
    }
   },
   "cell_type": "code",
   "source": [
    "engagement_by_state = song.groupby('user_state').agg({\n",
    "    'user_id': 'nunique',  # number of users\n",
    "    'song_played': 'count'  # total songs played\n",
    "}).reset_index()"
   ],
   "id": "3b27a1ae41dbc624",
   "outputs": [],
   "execution_count": 14
  },
  {
   "metadata": {
    "ExecuteTime": {
     "end_time": "2025-08-16T09:30:48.138062Z",
     "start_time": "2025-08-16T09:30:48.129647Z"
    }
   },
   "cell_type": "code",
   "outputs": [],
   "execution_count": 15,
   "source": "engagement_by_state['avg_songs_per_user'] = engagement_by_state['song_played'] / engagement_by_state['user_id']",
   "id": "53549aaceb3a1157"
  },
  {
   "metadata": {
    "ExecuteTime": {
     "end_time": "2025-08-16T09:31:48.626241Z",
     "start_time": "2025-08-16T09:31:48.602843Z"
    }
   },
   "cell_type": "code",
   "source": "engagement_sorted = engagement_by_state.sort_values('avg_songs_per_user', ascending=False)",
   "id": "6fb068859491fdce",
   "outputs": [],
   "execution_count": 16
  },
  {
   "metadata": {
    "ExecuteTime": {
     "end_time": "2025-08-16T09:32:11.367888Z",
     "start_time": "2025-08-16T09:32:11.360065Z"
    }
   },
   "cell_type": "code",
   "source": [
    "print(\"TOP 3 STATES :\")\n",
    "top_3_engagement = engagement_sorted.head(3)\n",
    "for i, row in enumerate(top_3_engagement.itertuples(), 1):\n",
    "    print(f\"{i}. {row.user_state}: {row.avg_songs_per_user:.1f} songs per user ({row.user_id} users, {row.song_played} total plays)\")"
   ],
   "id": "e3beb52e4112b5ad",
   "outputs": [
    {
     "name": "stdout",
     "output_type": "stream",
     "text": [
      "TOP 3 STATES :\n",
      "1. Nebraska: 36.0 songs per user (1 users, 36 total plays)\n",
      "2. Alaska: 29.0 songs per user (2 users, 58 total plays)\n",
      "3. Mississippi: 28.3 songs per user (3 users, 85 total plays)\n"
     ]
    }
   ],
   "execution_count": 17
  },
  {
   "metadata": {
    "ExecuteTime": {
     "end_time": "2025-08-16T09:33:02.473739Z",
     "start_time": "2025-08-16T09:33:02.465146Z"
    }
   },
   "cell_type": "code",
   "source": [
    "print(\"BOTTOM 3 STATES :\")\n",
    "bottom_3_engagement = engagement_sorted.tail(3)\n",
    "for i, row in enumerate(reversed(list(bottom_3_engagement.itertuples())), 1):\n",
    "    print(f\"{i}. {row.user_state}: {row.avg_songs_per_user:.1f} songs per user ({row.user_id} users, {row.song_played} total plays)\")"
   ],
   "id": "2f57fcdf042b04c",
   "outputs": [
    {
     "name": "stdout",
     "output_type": "stream",
     "text": [
      "BOTTOM 3 STATES :\n",
      "1. Kansas: 8.0 songs per user (1 users, 8 total plays)\n",
      "2. Virginia: 8.5 songs per user (2 users, 17 total plays)\n",
      "3. Minnesota: 10.5 songs per user (4 users, 42 total plays)\n"
     ]
    }
   ],
   "execution_count": 18
  },
  {
   "metadata": {},
   "cell_type": "markdown",
   "source": "Third question : 3-The CEO wants to send a gift to the first user who signed-up for each state. That is, the first user who signed-up from California, from Oregon, etc. Can you give him a list of those users?",
   "id": "2504d57e4e3c4b37"
  },
  {
   "metadata": {
    "ExecuteTime": {
     "end_time": "2025-08-16T09:40:07.056096Z",
     "start_time": "2025-08-16T09:40:07.050094Z"
    }
   },
   "cell_type": "code",
   "source": [
    "def find_first_user(song):\n",
    "    idx = song['user_sign_up_date'].idxmin()\n",
    "    return song.loc[idx, ['user_id', 'user_sign_up_date']]"
   ],
   "id": "ca898584114c06ab",
   "outputs": [],
   "execution_count": 26
  },
  {
   "metadata": {
    "ExecuteTime": {
     "end_time": "2025-08-16T09:41:13.829026Z",
     "start_time": "2025-08-16T09:41:13.776483Z"
    }
   },
   "cell_type": "code",
   "source": "first_users = song.groupby('user_state').apply(find_first_user, include_groups=False).sort_values(by='user_sign_up_date')",
   "id": "76ec8a61cc7fb67",
   "outputs": [],
   "execution_count": 28
  },
  {
   "metadata": {
    "ExecuteTime": {
     "end_time": "2025-08-16T09:41:40.420742Z",
     "start_time": "2025-08-16T09:41:40.396514Z"
    }
   },
   "cell_type": "code",
   "source": [
    "for state, row in first_users.iterrows():\n",
    "    print(f\"{state}: User {row['user_id']} (signed up: {row['user_sign_up_date']})\")"
   ],
   "id": "5e1b5b5d1dc12e83",
   "outputs": [
    {
     "name": "stdout",
     "output_type": "stream",
     "text": [
      "Alabama: User 5 (signed up: 2015-05-01 00:00:00)\n",
      "Texas: User 7 (signed up: 2015-05-01 00:00:00)\n",
      "Oregon: User 1 (signed up: 2015-05-01 00:00:00)\n",
      "Ohio: User 3 (signed up: 2015-05-01 00:00:00)\n",
      "North Carolina: User 2 (signed up: 2015-05-01 00:00:00)\n",
      "New Mexico: User 4 (signed up: 2015-05-01 00:00:00)\n",
      "New Jersey: User 6 (signed up: 2015-05-01 00:00:00)\n",
      "Pennsylvania: User 11 (signed up: 2015-05-02 00:00:00)\n",
      "New York: User 19 (signed up: 2015-05-02 00:00:00)\n",
      "Minnesota: User 8 (signed up: 2015-05-02 00:00:00)\n",
      "Michigan: User 13 (signed up: 2015-05-02 00:00:00)\n",
      "Massachusetts: User 15 (signed up: 2015-05-02 00:00:00)\n",
      "Maryland: User 18 (signed up: 2015-05-02 00:00:00)\n",
      "Mississippi: User 23 (signed up: 2015-05-02 00:00:00)\n",
      "Georgia: User 20 (signed up: 2015-05-02 00:00:00)\n",
      "Utah: User 29 (signed up: 2015-05-03 00:00:00)\n",
      "Kentucky: User 34 (signed up: 2015-05-04 00:00:00)\n",
      "California: User 39 (signed up: 2015-05-04 00:00:00)\n",
      "Florida: User 41 (signed up: 2015-05-04 00:00:00)\n",
      "Wisconsin: User 32 (signed up: 2015-05-04 00:00:00)\n",
      "Illinois: User 45 (signed up: 2015-05-05 00:00:00)\n",
      "Louisiana: User 50 (signed up: 2015-05-06 00:00:00)\n",
      "West Virginia: User 60 (signed up: 2015-05-07 00:00:00)\n",
      "Tennessee: User 70 (signed up: 2015-05-08 00:00:00)\n",
      "South Carolina: User 64 (signed up: 2015-05-08 00:00:00)\n",
      "Arkansas: User 78 (signed up: 2015-05-08 00:00:00)\n",
      "Missouri: User 85 (signed up: 2015-05-09 00:00:00)\n",
      "Arizona: User 105 (signed up: 2015-05-12 00:00:00)\n",
      "Indiana: User 102 (signed up: 2015-05-12 00:00:00)\n",
      "Alaska: User 106 (signed up: 2015-05-12 00:00:00)\n",
      "Oklahoma: User 119 (signed up: 2015-05-16 00:00:00)\n",
      "Nebraska: User 134 (signed up: 2015-05-16 00:00:00)\n",
      "Washington: User 125 (signed up: 2015-05-16 00:00:00)\n",
      "Connecticut: User 127 (signed up: 2015-05-16 00:00:00)\n",
      "Virginia: User 142 (signed up: 2015-05-17 00:00:00)\n",
      "North Dakota: User 135 (signed up: 2015-05-17 00:00:00)\n",
      "Colorado: User 173 (signed up: 2015-05-19 00:00:00)\n",
      "Kansas: User 177 (signed up: 2015-05-19 00:00:00)\n",
      "Iowa: User 178 (signed up: 2015-05-19 00:00:00)\n",
      "Idaho: User 165 (signed up: 2015-05-19 00:00:00)\n",
      "Rhode Island: User 174 (signed up: 2015-05-19 00:00:00)\n"
     ]
    }
   ],
   "execution_count": 29
  },
  {
   "metadata": {},
   "cell_type": "code",
   "outputs": [],
   "execution_count": null,
   "source": "",
   "id": "3b1bf90dd6e460b8"
  },
  {
   "metadata": {},
   "cell_type": "code",
   "outputs": [],
   "execution_count": null,
   "source": "",
   "id": "75b96ab8d25921d7"
  },
  {
   "metadata": {},
   "cell_type": "code",
   "outputs": [],
   "execution_count": null,
   "source": "",
   "id": "830ea74d0dea7c74"
  },
  {
   "metadata": {},
   "cell_type": "code",
   "outputs": [],
   "execution_count": null,
   "source": "",
   "id": "1c828c3efed4b6a4"
  },
  {
   "metadata": {},
   "cell_type": "code",
   "outputs": [],
   "execution_count": null,
   "source": "",
   "id": "cef03f7a3bfe3064"
  },
  {
   "metadata": {},
   "cell_type": "code",
   "outputs": [],
   "execution_count": null,
   "source": "",
   "id": "88233371d3755434"
  },
  {
   "metadata": {},
   "cell_type": "code",
   "outputs": [],
   "execution_count": null,
   "source": "",
   "id": "59917a5f6543ac2f"
  },
  {
   "metadata": {},
   "cell_type": "code",
   "outputs": [],
   "execution_count": null,
   "source": "",
   "id": "3c20c3aac0193dc1"
  },
  {
   "metadata": {},
   "cell_type": "code",
   "outputs": [],
   "execution_count": null,
   "source": "",
   "id": "e6ce0e528ea12e15"
  },
  {
   "metadata": {},
   "cell_type": "code",
   "outputs": [],
   "execution_count": null,
   "source": "",
   "id": "318f63b8d68ef740"
  },
  {
   "metadata": {},
   "cell_type": "code",
   "outputs": [],
   "execution_count": null,
   "source": "",
   "id": "2f0484f8f69fb10f"
  },
  {
   "metadata": {},
   "cell_type": "code",
   "outputs": [],
   "execution_count": null,
   "source": "",
   "id": "fca66c3d385a0fa6"
  },
  {
   "metadata": {},
   "cell_type": "code",
   "outputs": [],
   "execution_count": null,
   "source": "",
   "id": "2fdc7db75b11e401"
  },
  {
   "metadata": {},
   "cell_type": "code",
   "outputs": [],
   "execution_count": null,
   "source": "",
   "id": "36046a84170236dc"
  },
  {
   "metadata": {},
   "cell_type": "code",
   "outputs": [],
   "execution_count": null,
   "source": "",
   "id": "c32d0d8de74df4e8"
  },
  {
   "metadata": {},
   "cell_type": "code",
   "outputs": [],
   "execution_count": null,
   "source": "",
   "id": "63fed3e3c7db42a8"
  },
  {
   "metadata": {},
   "cell_type": "code",
   "outputs": [],
   "execution_count": null,
   "source": "",
   "id": "82fdfca7192c101c"
  },
  {
   "metadata": {},
   "cell_type": "code",
   "outputs": [],
   "execution_count": null,
   "source": "",
   "id": "89dde6d2a7a0c4a7"
  },
  {
   "metadata": {},
   "cell_type": "code",
   "outputs": [],
   "execution_count": null,
   "source": "",
   "id": "860e2f827da8c976"
  },
  {
   "metadata": {},
   "cell_type": "code",
   "outputs": [],
   "execution_count": null,
   "source": "",
   "id": "a61ca6cd0166d9b6"
  },
  {
   "metadata": {},
   "cell_type": "code",
   "outputs": [],
   "execution_count": null,
   "source": "",
   "id": "e8666d4ca053d6e8"
  },
  {
   "metadata": {},
   "cell_type": "code",
   "outputs": [],
   "execution_count": null,
   "source": "",
   "id": "3c23f41ee18b5639"
  },
  {
   "metadata": {},
   "cell_type": "code",
   "outputs": [],
   "execution_count": null,
   "source": "",
   "id": "eb7b3a4f6bfd3cd2"
  },
  {
   "metadata": {},
   "cell_type": "code",
   "outputs": [],
   "execution_count": null,
   "source": "",
   "id": "ee660f0e40398ccc"
  }
 ],
 "metadata": {
  "kernelspec": {
   "display_name": "Python 3",
   "language": "python",
   "name": "python3"
  },
  "language_info": {
   "codemirror_mode": {
    "name": "ipython",
    "version": 2
   },
   "file_extension": ".py",
   "mimetype": "text/x-python",
   "name": "python",
   "nbconvert_exporter": "python",
   "pygments_lexer": "ipython2",
   "version": "2.7.6"
  }
 },
 "nbformat": 4,
 "nbformat_minor": 5
}
