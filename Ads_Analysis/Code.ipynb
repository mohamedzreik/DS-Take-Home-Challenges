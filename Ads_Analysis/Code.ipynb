{
 "cells": [
  {
   "metadata": {},
   "cell_type": "markdown",
   "source": [
    "### Ads Analysis\n",
    "## Goal\n",
    "Maybe the first industry to heavily rely on data science was the online ads industry. Data\n",
    "Science is used to choose which ads to show, how much to pay, optimize the ad text and the\n",
    "position as well as in countless of other related applications.\n",
    "Optimizing ads is one of the most intellectually challenging jobs a data scientist can do. It is a\n",
    "really complex problem given the huge (really really huge) size of the datasets as well as number\n",
    "of features that can be used. Moreover, companies often spend huge amounts of money in ads\n",
    "and a small ad optimization improvement can be worth millions of dollars for the company.\n",
    "The goal of this project is to look at a few ad campaigns and analyze their current performance\n",
    "as well as predict their future performance.\n",
    "Challenge Description\n",
    "Company XYZ is a food delivery company. Like pretty much any other site, in order to get\n",
    "customers, they have been relying significantly on online ads, such as those you see on Google\n",
    "or Facebook.\n",
    "\n",
    "At the moment, they are running 40 different ad campaigns and want you to help them\n",
    "understand their performance.\n",
    "\n",
    "### Specifically, you are asked to:\n",
    "If you had to identify the 5 best ad groups, which ones would they be? Which metric did\n",
    "you choose to identify the best ad groups? Why? Explain the pros of your metric as well\n",
    "as the possible cons.\n",
    "For each group, predict how many ads will be shown on Dec, 15 (assume each ad group\n",
    "keeps following its trend).\n",
    "Cluster ads into 3 groups: the ones whose avg_cost_per_click is going up, the ones\n",
    "whose avg_cost_per_click is flat and the ones whose avg_cost_per_click is going down."
   ],
   "id": "4262f5843d4c4158"
  },
  {
   "cell_type": "code",
   "id": "initial_id",
   "metadata": {
    "collapsed": true,
    "ExecuteTime": {
     "end_time": "2025-08-07T13:07:25.303718Z",
     "start_time": "2025-08-07T13:07:23.388001Z"
    }
   },
   "source": [
    "import pandas as pd\n",
    "from matplotlib import pyplot as plt\n",
    "import seaborn as sns\n",
    "import numpy as np\n",
    "from prophet import Prophet"
   ],
   "outputs": [],
   "execution_count": 10
  },
  {
   "metadata": {
    "ExecuteTime": {
     "end_time": "2025-08-07T12:44:55.742125Z",
     "start_time": "2025-08-07T12:44:55.701195Z"
    }
   },
   "cell_type": "code",
   "source": [
    "ads = pd.read_csv(\"ad_table.csv\")\n",
    "ads.head()"
   ],
   "id": "11d7448a53b3192d",
   "outputs": [
    {
     "data": {
      "text/plain": [
       "         date  shown  clicked  converted  avg_cost_per_click  total_revenue  \\\n",
       "0  2015-10-01  65877     2339         43                0.90         641.62   \n",
       "1  2015-10-02  65100     2498         38                0.94         756.37   \n",
       "2  2015-10-03  70658     2313         49                0.86         970.90   \n",
       "3  2015-10-04  69809     2833         51                1.01         907.39   \n",
       "4  2015-10-05  68186     2696         41                1.00         879.45   \n",
       "\n",
       "           ad  \n",
       "0  ad_group_1  \n",
       "1  ad_group_1  \n",
       "2  ad_group_1  \n",
       "3  ad_group_1  \n",
       "4  ad_group_1  "
      ],
      "text/html": [
       "<div>\n",
       "<style scoped>\n",
       "    .dataframe tbody tr th:only-of-type {\n",
       "        vertical-align: middle;\n",
       "    }\n",
       "\n",
       "    .dataframe tbody tr th {\n",
       "        vertical-align: top;\n",
       "    }\n",
       "\n",
       "    .dataframe thead th {\n",
       "        text-align: right;\n",
       "    }\n",
       "</style>\n",
       "<table border=\"1\" class=\"dataframe\">\n",
       "  <thead>\n",
       "    <tr style=\"text-align: right;\">\n",
       "      <th></th>\n",
       "      <th>date</th>\n",
       "      <th>shown</th>\n",
       "      <th>clicked</th>\n",
       "      <th>converted</th>\n",
       "      <th>avg_cost_per_click</th>\n",
       "      <th>total_revenue</th>\n",
       "      <th>ad</th>\n",
       "    </tr>\n",
       "  </thead>\n",
       "  <tbody>\n",
       "    <tr>\n",
       "      <th>0</th>\n",
       "      <td>2015-10-01</td>\n",
       "      <td>65877</td>\n",
       "      <td>2339</td>\n",
       "      <td>43</td>\n",
       "      <td>0.90</td>\n",
       "      <td>641.62</td>\n",
       "      <td>ad_group_1</td>\n",
       "    </tr>\n",
       "    <tr>\n",
       "      <th>1</th>\n",
       "      <td>2015-10-02</td>\n",
       "      <td>65100</td>\n",
       "      <td>2498</td>\n",
       "      <td>38</td>\n",
       "      <td>0.94</td>\n",
       "      <td>756.37</td>\n",
       "      <td>ad_group_1</td>\n",
       "    </tr>\n",
       "    <tr>\n",
       "      <th>2</th>\n",
       "      <td>2015-10-03</td>\n",
       "      <td>70658</td>\n",
       "      <td>2313</td>\n",
       "      <td>49</td>\n",
       "      <td>0.86</td>\n",
       "      <td>970.90</td>\n",
       "      <td>ad_group_1</td>\n",
       "    </tr>\n",
       "    <tr>\n",
       "      <th>3</th>\n",
       "      <td>2015-10-04</td>\n",
       "      <td>69809</td>\n",
       "      <td>2833</td>\n",
       "      <td>51</td>\n",
       "      <td>1.01</td>\n",
       "      <td>907.39</td>\n",
       "      <td>ad_group_1</td>\n",
       "    </tr>\n",
       "    <tr>\n",
       "      <th>4</th>\n",
       "      <td>2015-10-05</td>\n",
       "      <td>68186</td>\n",
       "      <td>2696</td>\n",
       "      <td>41</td>\n",
       "      <td>1.00</td>\n",
       "      <td>879.45</td>\n",
       "      <td>ad_group_1</td>\n",
       "    </tr>\n",
       "  </tbody>\n",
       "</table>\n",
       "</div>"
      ]
     },
     "execution_count": 2,
     "metadata": {},
     "output_type": "execute_result"
    }
   ],
   "execution_count": 2
  },
  {
   "metadata": {
    "ExecuteTime": {
     "end_time": "2025-08-07T12:44:56.037520Z",
     "start_time": "2025-08-07T12:44:56.021728Z"
    }
   },
   "cell_type": "code",
   "source": "ads.info()",
   "id": "8591d1eeee97d641",
   "outputs": [
    {
     "name": "stdout",
     "output_type": "stream",
     "text": [
      "<class 'pandas.core.frame.DataFrame'>\n",
      "RangeIndex: 2115 entries, 0 to 2114\n",
      "Data columns (total 7 columns):\n",
      " #   Column              Non-Null Count  Dtype  \n",
      "---  ------              --------------  -----  \n",
      " 0   date                2115 non-null   object \n",
      " 1   shown               2115 non-null   int64  \n",
      " 2   clicked             2115 non-null   int64  \n",
      " 3   converted           2115 non-null   int64  \n",
      " 4   avg_cost_per_click  2115 non-null   float64\n",
      " 5   total_revenue       2115 non-null   float64\n",
      " 6   ad                  2115 non-null   object \n",
      "dtypes: float64(2), int64(3), object(2)\n",
      "memory usage: 115.8+ KB\n"
     ]
    }
   ],
   "execution_count": 3
  },
  {
   "metadata": {
    "ExecuteTime": {
     "end_time": "2025-08-07T12:44:56.460869Z",
     "start_time": "2025-08-07T12:44:56.411085Z"
    }
   },
   "cell_type": "code",
   "source": "ads.describe()",
   "id": "fa8e9e32f2a80c66",
   "outputs": [
    {
     "data": {
      "text/plain": [
       "               shown       clicked    converted  avg_cost_per_click  \\\n",
       "count    2115.000000   2115.000000  2115.000000         2115.000000   \n",
       "mean    68299.844444   3056.077069   126.453901            1.373749   \n",
       "std     48884.821409   3783.579969   233.420826            0.754331   \n",
       "min         0.000000      0.000000     0.000000            0.000000   \n",
       "25%     28030.500000    744.000000    18.000000            0.760000   \n",
       "50%     54029.000000   1392.000000    41.000000            1.400000   \n",
       "75%     97314.500000   3366.500000   103.000000            1.920000   \n",
       "max    192507.000000  20848.000000  1578.000000            4.190000   \n",
       "\n",
       "       total_revenue  \n",
       "count    2115.000000  \n",
       "mean     1966.517589  \n",
       "std      3942.018757  \n",
       "min      -200.150000  \n",
       "25%       235.470000  \n",
       "50%       553.300000  \n",
       "75%      1611.495000  \n",
       "max     39623.710000  "
      ],
      "text/html": [
       "<div>\n",
       "<style scoped>\n",
       "    .dataframe tbody tr th:only-of-type {\n",
       "        vertical-align: middle;\n",
       "    }\n",
       "\n",
       "    .dataframe tbody tr th {\n",
       "        vertical-align: top;\n",
       "    }\n",
       "\n",
       "    .dataframe thead th {\n",
       "        text-align: right;\n",
       "    }\n",
       "</style>\n",
       "<table border=\"1\" class=\"dataframe\">\n",
       "  <thead>\n",
       "    <tr style=\"text-align: right;\">\n",
       "      <th></th>\n",
       "      <th>shown</th>\n",
       "      <th>clicked</th>\n",
       "      <th>converted</th>\n",
       "      <th>avg_cost_per_click</th>\n",
       "      <th>total_revenue</th>\n",
       "    </tr>\n",
       "  </thead>\n",
       "  <tbody>\n",
       "    <tr>\n",
       "      <th>count</th>\n",
       "      <td>2115.000000</td>\n",
       "      <td>2115.000000</td>\n",
       "      <td>2115.000000</td>\n",
       "      <td>2115.000000</td>\n",
       "      <td>2115.000000</td>\n",
       "    </tr>\n",
       "    <tr>\n",
       "      <th>mean</th>\n",
       "      <td>68299.844444</td>\n",
       "      <td>3056.077069</td>\n",
       "      <td>126.453901</td>\n",
       "      <td>1.373749</td>\n",
       "      <td>1966.517589</td>\n",
       "    </tr>\n",
       "    <tr>\n",
       "      <th>std</th>\n",
       "      <td>48884.821409</td>\n",
       "      <td>3783.579969</td>\n",
       "      <td>233.420826</td>\n",
       "      <td>0.754331</td>\n",
       "      <td>3942.018757</td>\n",
       "    </tr>\n",
       "    <tr>\n",
       "      <th>min</th>\n",
       "      <td>0.000000</td>\n",
       "      <td>0.000000</td>\n",
       "      <td>0.000000</td>\n",
       "      <td>0.000000</td>\n",
       "      <td>-200.150000</td>\n",
       "    </tr>\n",
       "    <tr>\n",
       "      <th>25%</th>\n",
       "      <td>28030.500000</td>\n",
       "      <td>744.000000</td>\n",
       "      <td>18.000000</td>\n",
       "      <td>0.760000</td>\n",
       "      <td>235.470000</td>\n",
       "    </tr>\n",
       "    <tr>\n",
       "      <th>50%</th>\n",
       "      <td>54029.000000</td>\n",
       "      <td>1392.000000</td>\n",
       "      <td>41.000000</td>\n",
       "      <td>1.400000</td>\n",
       "      <td>553.300000</td>\n",
       "    </tr>\n",
       "    <tr>\n",
       "      <th>75%</th>\n",
       "      <td>97314.500000</td>\n",
       "      <td>3366.500000</td>\n",
       "      <td>103.000000</td>\n",
       "      <td>1.920000</td>\n",
       "      <td>1611.495000</td>\n",
       "    </tr>\n",
       "    <tr>\n",
       "      <th>max</th>\n",
       "      <td>192507.000000</td>\n",
       "      <td>20848.000000</td>\n",
       "      <td>1578.000000</td>\n",
       "      <td>4.190000</td>\n",
       "      <td>39623.710000</td>\n",
       "    </tr>\n",
       "  </tbody>\n",
       "</table>\n",
       "</div>"
      ]
     },
     "execution_count": 4,
     "metadata": {},
     "output_type": "execute_result"
    }
   ],
   "execution_count": 4
  },
  {
   "metadata": {
    "ExecuteTime": {
     "end_time": "2025-08-07T12:44:57.707648Z",
     "start_time": "2025-08-07T12:44:57.670847Z"
    }
   },
   "cell_type": "code",
   "source": [
    "for col in ads.columns:\n",
    "   print( ads[col].value_counts())"
   ],
   "id": "c5b0fcb075435785",
   "outputs": [
    {
     "name": "stdout",
     "output_type": "stream",
     "text": [
      "date\n",
      "2015-10-01    40\n",
      "2015-10-02    40\n",
      "2015-10-04    40\n",
      "2015-10-05    40\n",
      "2015-10-06    40\n",
      "2015-10-18    40\n",
      "2015-10-07    40\n",
      "2015-10-08    40\n",
      "2015-10-10    40\n",
      "2015-10-12    40\n",
      "2015-10-11    40\n",
      "2015-10-13    40\n",
      "2015-10-14    40\n",
      "2015-10-20    40\n",
      "2015-10-15    40\n",
      "2015-10-16    40\n",
      "2015-10-17    40\n",
      "2015-10-21    40\n",
      "2015-10-19    40\n",
      "2015-10-23    40\n",
      "2015-10-22    40\n",
      "2015-11-15    40\n",
      "2015-11-08    40\n",
      "2015-10-24    40\n",
      "2015-10-25    40\n",
      "2015-10-26    40\n",
      "2015-10-27    40\n",
      "2015-10-28    40\n",
      "2015-10-29    40\n",
      "2015-10-30    40\n",
      "2015-10-31    40\n",
      "2015-11-01    40\n",
      "2015-11-02    40\n",
      "2015-11-03    40\n",
      "2015-11-05    40\n",
      "2015-11-06    40\n",
      "2015-11-07    40\n",
      "2015-11-21    40\n",
      "2015-11-16    40\n",
      "2015-11-09    40\n",
      "2015-11-10    40\n",
      "2015-11-11    40\n",
      "2015-11-12    40\n",
      "2015-11-13    40\n",
      "2015-11-14    40\n",
      "2015-11-22    40\n",
      "2015-11-20    40\n",
      "2015-11-17    40\n",
      "2015-11-19    40\n",
      "2015-10-09    39\n",
      "2015-10-03    39\n",
      "2015-11-18    39\n",
      "2015-11-04    38\n",
      "Name: count, dtype: int64\n",
      "shown\n",
      "0        13\n",
      "21078     2\n",
      "38089     2\n",
      "21656     2\n",
      "19972     2\n",
      "         ..\n",
      "71101     1\n",
      "75676     1\n",
      "70274     1\n",
      "72223     1\n",
      "65100     1\n",
      "Name: count, Length: 2081, dtype: int64\n",
      "clicked\n",
      "0       20\n",
      "282      6\n",
      "661      5\n",
      "243      5\n",
      "249      5\n",
      "        ..\n",
      "1182     1\n",
      "1272     1\n",
      "1212     1\n",
      "1303     1\n",
      "2498     1\n",
      "Name: count, Length: 1653, dtype: int64\n",
      "converted\n",
      "1      106\n",
      "0       72\n",
      "16      64\n",
      "15      55\n",
      "2       53\n",
      "      ... \n",
      "291      1\n",
      "321      1\n",
      "294      1\n",
      "348      1\n",
      "336      1\n",
      "Name: count, Length: 456, dtype: int64\n",
      "avg_cost_per_click\n",
      "0.09    29\n",
      "0.40    27\n",
      "1.92    24\n",
      "1.72    23\n",
      "1.81    23\n",
      "        ..\n",
      "3.48     1\n",
      "3.66     1\n",
      "0.29     1\n",
      "0.31     1\n",
      "0.45     1\n",
      "Name: count, Length: 300, dtype: int64\n",
      "total_revenue\n",
      "0.00      72\n",
      "327.18     2\n",
      "177.24     2\n",
      "11.97      2\n",
      "15.44      2\n",
      "          ..\n",
      "582.28     1\n",
      "483.05     1\n",
      "625.90     1\n",
      "433.99     1\n",
      "746.48     1\n",
      "Name: count, Length: 2023, dtype: int64\n",
      "ad\n",
      "ad_group_1     53\n",
      "ad_group_2     53\n",
      "ad_group_3     53\n",
      "ad_group_4     53\n",
      "ad_group_5     53\n",
      "ad_group_6     53\n",
      "ad_group_7     53\n",
      "ad_group_8     53\n",
      "ad_group_9     53\n",
      "ad_group_11    53\n",
      "ad_group_12    53\n",
      "ad_group_13    53\n",
      "ad_group_16    53\n",
      "ad_group_15    53\n",
      "ad_group_19    53\n",
      "ad_group_17    53\n",
      "ad_group_23    53\n",
      "ad_group_21    53\n",
      "ad_group_22    53\n",
      "ad_group_29    53\n",
      "ad_group_28    53\n",
      "ad_group_27    53\n",
      "ad_group_26    53\n",
      "ad_group_25    53\n",
      "ad_group_33    53\n",
      "ad_group_34    53\n",
      "ad_group_35    53\n",
      "ad_group_36    53\n",
      "ad_group_37    53\n",
      "ad_group_30    53\n",
      "ad_group_31    53\n",
      "ad_group_32    53\n",
      "ad_group_39    53\n",
      "ad_group_38    53\n",
      "ad_group_40    53\n",
      "ad_group_24    52\n",
      "ad_group_10    52\n",
      "ad_group_20    52\n",
      "ad_group_18    52\n",
      "ad_group_14    52\n",
      "Name: count, dtype: int64\n"
     ]
    }
   ],
   "execution_count": 5
  },
  {
   "metadata": {},
   "cell_type": "markdown",
   "source": [
    "### If you had to identify the 5 best ad groups, which ones would they be? Which metric did you choose to identify the best ad groups? Why? Explain the pros of your metric as well as the possible cons.\n",
    "\n",
    "revenue vs cost metric"
   ],
   "id": "1f74a0d6afdacda7"
  },
  {
   "metadata": {
    "ExecuteTime": {
     "end_time": "2025-08-07T12:46:55.843148Z",
     "start_time": "2025-08-07T12:46:55.832122Z"
    }
   },
   "cell_type": "code",
   "source": "ads['return'] = ads['total_revenue'] - ads['avg_cost_per_click'] * ads['clicked']",
   "id": "a87ced57e27705e8",
   "outputs": [],
   "execution_count": 6
  },
  {
   "metadata": {
    "ExecuteTime": {
     "end_time": "2025-08-07T12:51:15.622709Z",
     "start_time": "2025-08-07T12:51:15.593289Z"
    }
   },
   "cell_type": "code",
   "source": [
    "def calculate_avg_profit_per_impression(group):\n",
    "    total_revenue = group['return'].sum()\n",
    "    total_views = group['shown'].sum()\n",
    "    return total_revenue / total_views if total_views else 0\n",
    "ad_performance = (\n",
    "    ads\n",
    "    .groupby('ad')\n",
    "    .apply(calculate_avg_profit_per_impression)\n",
    "    .reset_index(name='avg_profit_per_view')\n",
    "    .sort_values(by='avg_profit_per_view', ascending=False)\n",
    ")\n",
    "# Show top 10 performing ads\n",
    "top_ads = ad_performance.head(5)\n",
    "print(top_ads)"
   ],
   "id": "52c2e8095acdf254",
   "outputs": [
    {
     "name": "stdout",
     "output_type": "stream",
     "text": [
      "             ad  avg_profit_per_view\n",
      "7   ad_group_16             0.020516\n",
      "11   ad_group_2             0.020116\n",
      "5   ad_group_14             0.016485\n",
      "24  ad_group_31             0.005824\n",
      "19  ad_group_27             0.000725\n"
     ]
    },
    {
     "name": "stderr",
     "output_type": "stream",
     "text": [
      "C:\\Users\\user\\AppData\\Local\\Temp\\ipykernel_6896\\1138838620.py:8: DeprecationWarning: DataFrameGroupBy.apply operated on the grouping columns. This behavior is deprecated, and in a future version of pandas the grouping columns will be excluded from the operation. Either pass `include_groups=False` to exclude the groupings or explicitly select the grouping columns after groupby to silence this warning.\n",
      "  .apply(calculate_avg_profit_per_impression)\n"
     ]
    }
   ],
   "execution_count": 9
  },
  {
   "metadata": {},
   "cell_type": "markdown",
   "source": "### For each group, predict how many ads will be shown on Dec, 15 (assume each ad group keeps following its trend).",
   "id": "470c0e0d5740afca"
  },
  {
   "metadata": {
    "ExecuteTime": {
     "end_time": "2025-08-07T13:07:39.381090Z",
     "start_time": "2025-08-07T13:07:39.356497Z"
    }
   },
   "cell_type": "code",
   "source": "ads['date'] = pd.to_datetime(ads['date'])",
   "id": "82d8c02c7476294",
   "outputs": [],
   "execution_count": 11
  },
  {
   "metadata": {
    "ExecuteTime": {
     "end_time": "2025-08-07T13:07:52.786819Z",
     "start_time": "2025-08-07T13:07:52.780353Z"
    }
   },
   "cell_type": "code",
   "source": "results = []",
   "id": "2fe94490a2f9280d",
   "outputs": [],
   "execution_count": 12
  },
  {
   "metadata": {
    "ExecuteTime": {
     "end_time": "2025-08-07T13:08:21.889653Z",
     "start_time": "2025-08-07T13:08:00.407262Z"
    }
   },
   "cell_type": "code",
   "source": [
    "for ad_group, group_data in ads.groupby('ad'):\n",
    "    df = group_data[['date', 'shown']].rename(columns={'date': 'ds', 'shown': 'y'})\n",
    "    model = Prophet(daily_seasonality=True)\n",
    "    model.fit(df)\n",
    "    future = model.make_future_dataframe(periods=30)\n",
    "    forecast = model.predict(future)\n",
    "    dec_15_pred = forecast[forecast['ds'] == '2015-12-15']['yhat'].values\n",
    "    prediction = dec_15_pred[0] if len(dec_15_pred) > 0 else None\n",
    "    results.append({'ad_group': ad_group, 'shown_predicted_on_2015_12_15': prediction})"
   ],
   "id": "30122069c953ee7a",
   "outputs": [
    {
     "name": "stderr",
     "output_type": "stream",
     "text": [
      "16:08:00 - cmdstanpy - INFO - Chain [1] start processing\n",
      "16:08:01 - cmdstanpy - INFO - Chain [1] done processing\n",
      "16:08:01 - cmdstanpy - INFO - Chain [1] start processing\n",
      "16:08:02 - cmdstanpy - INFO - Chain [1] done processing\n",
      "16:08:02 - cmdstanpy - INFO - Chain [1] start processing\n",
      "16:08:02 - cmdstanpy - INFO - Chain [1] done processing\n",
      "16:08:02 - cmdstanpy - INFO - Chain [1] start processing\n",
      "16:08:02 - cmdstanpy - INFO - Chain [1] done processing\n",
      "16:08:03 - cmdstanpy - INFO - Chain [1] start processing\n",
      "16:08:03 - cmdstanpy - INFO - Chain [1] done processing\n",
      "16:08:03 - cmdstanpy - INFO - Chain [1] start processing\n",
      "16:08:03 - cmdstanpy - INFO - Chain [1] done processing\n",
      "16:08:04 - cmdstanpy - INFO - Chain [1] start processing\n",
      "16:08:04 - cmdstanpy - INFO - Chain [1] done processing\n",
      "16:08:04 - cmdstanpy - INFO - Chain [1] start processing\n",
      "16:08:04 - cmdstanpy - INFO - Chain [1] done processing\n",
      "16:08:04 - cmdstanpy - INFO - Chain [1] start processing\n",
      "16:08:05 - cmdstanpy - INFO - Chain [1] done processing\n",
      "16:08:05 - cmdstanpy - INFO - Chain [1] start processing\n",
      "16:08:05 - cmdstanpy - INFO - Chain [1] done processing\n",
      "16:08:06 - cmdstanpy - INFO - Chain [1] start processing\n",
      "16:08:06 - cmdstanpy - INFO - Chain [1] done processing\n",
      "16:08:06 - cmdstanpy - INFO - Chain [1] start processing\n",
      "16:08:06 - cmdstanpy - INFO - Chain [1] done processing\n",
      "16:08:07 - cmdstanpy - INFO - Chain [1] start processing\n",
      "16:08:07 - cmdstanpy - INFO - Chain [1] done processing\n",
      "16:08:07 - cmdstanpy - INFO - Chain [1] start processing\n",
      "16:08:07 - cmdstanpy - INFO - Chain [1] done processing\n",
      "16:08:07 - cmdstanpy - INFO - Chain [1] start processing\n",
      "16:08:08 - cmdstanpy - INFO - Chain [1] done processing\n",
      "16:08:08 - cmdstanpy - INFO - Chain [1] start processing\n",
      "16:08:08 - cmdstanpy - INFO - Chain [1] done processing\n",
      "16:08:08 - cmdstanpy - INFO - Chain [1] start processing\n",
      "16:08:09 - cmdstanpy - INFO - Chain [1] done processing\n",
      "16:08:09 - cmdstanpy - INFO - Chain [1] start processing\n",
      "16:08:09 - cmdstanpy - INFO - Chain [1] done processing\n",
      "16:08:10 - cmdstanpy - INFO - Chain [1] start processing\n",
      "16:08:10 - cmdstanpy - INFO - Chain [1] done processing\n",
      "16:08:10 - cmdstanpy - INFO - Chain [1] start processing\n",
      "16:08:10 - cmdstanpy - INFO - Chain [1] done processing\n",
      "16:08:11 - cmdstanpy - INFO - Chain [1] start processing\n",
      "16:08:11 - cmdstanpy - INFO - Chain [1] done processing\n",
      "16:08:11 - cmdstanpy - INFO - Chain [1] start processing\n",
      "16:08:11 - cmdstanpy - INFO - Chain [1] done processing\n",
      "16:08:12 - cmdstanpy - INFO - Chain [1] start processing\n",
      "16:08:12 - cmdstanpy - INFO - Chain [1] done processing\n",
      "16:08:12 - cmdstanpy - INFO - Chain [1] start processing\n",
      "16:08:13 - cmdstanpy - INFO - Chain [1] done processing\n",
      "16:08:13 - cmdstanpy - INFO - Chain [1] start processing\n",
      "16:08:13 - cmdstanpy - INFO - Chain [1] done processing\n",
      "16:08:13 - cmdstanpy - INFO - Chain [1] start processing\n",
      "16:08:14 - cmdstanpy - INFO - Chain [1] done processing\n",
      "16:08:14 - cmdstanpy - INFO - Chain [1] start processing\n",
      "16:08:15 - cmdstanpy - INFO - Chain [1] done processing\n",
      "16:08:15 - cmdstanpy - INFO - Chain [1] start processing\n",
      "16:08:15 - cmdstanpy - INFO - Chain [1] done processing\n",
      "16:08:15 - cmdstanpy - INFO - Chain [1] start processing\n",
      "16:08:16 - cmdstanpy - INFO - Chain [1] done processing\n",
      "16:08:16 - cmdstanpy - INFO - Chain [1] start processing\n",
      "16:08:16 - cmdstanpy - INFO - Chain [1] done processing\n",
      "16:08:16 - cmdstanpy - INFO - Chain [1] start processing\n",
      "16:08:17 - cmdstanpy - INFO - Chain [1] done processing\n",
      "16:08:17 - cmdstanpy - INFO - Chain [1] start processing\n",
      "16:08:17 - cmdstanpy - INFO - Chain [1] done processing\n",
      "16:08:17 - cmdstanpy - INFO - Chain [1] start processing\n",
      "16:08:18 - cmdstanpy - INFO - Chain [1] done processing\n",
      "16:08:18 - cmdstanpy - INFO - Chain [1] start processing\n",
      "16:08:18 - cmdstanpy - INFO - Chain [1] done processing\n",
      "16:08:18 - cmdstanpy - INFO - Chain [1] start processing\n",
      "16:08:19 - cmdstanpy - INFO - Chain [1] done processing\n",
      "16:08:19 - cmdstanpy - INFO - Chain [1] start processing\n",
      "16:08:19 - cmdstanpy - INFO - Chain [1] done processing\n",
      "16:08:20 - cmdstanpy - INFO - Chain [1] start processing\n",
      "16:08:20 - cmdstanpy - INFO - Chain [1] done processing\n",
      "16:08:20 - cmdstanpy - INFO - Chain [1] start processing\n",
      "16:08:20 - cmdstanpy - INFO - Chain [1] done processing\n",
      "16:08:20 - cmdstanpy - INFO - Chain [1] start processing\n",
      "16:08:21 - cmdstanpy - INFO - Chain [1] done processing\n",
      "16:08:21 - cmdstanpy - INFO - Chain [1] start processing\n",
      "16:08:21 - cmdstanpy - INFO - Chain [1] done processing\n"
     ]
    }
   ],
   "execution_count": 13
  },
  {
   "metadata": {
    "ExecuteTime": {
     "end_time": "2025-08-07T13:08:41.634811Z",
     "start_time": "2025-08-07T13:08:41.624920Z"
    }
   },
   "cell_type": "code",
   "source": [
    "results_df = pd.DataFrame(results)\n",
    "results_df = results_df.sort_values(by='shown_predicted_on_2015_12_15', ascending=False)\n",
    "print(results_df.head(10))"
   ],
   "id": "d928b599affae48d",
   "outputs": [
    {
     "name": "stdout",
     "output_type": "stream",
     "text": [
      "       ad_group  shown_predicted_on_2015_12_15\n",
      "17  ad_group_25                  206126.342264\n",
      "31  ad_group_38                  177164.410099\n",
      "4   ad_group_13                  159633.688192\n",
      "22   ad_group_3                  152895.151591\n",
      "8   ad_group_17                  134003.801106\n",
      "12  ad_group_20                  132639.492618\n",
      "1   ad_group_10                  126742.708396\n",
      "39   ad_group_9                  124843.862346\n",
      "24  ad_group_31                  123852.480212\n",
      "23  ad_group_30                  110758.419749\n"
     ]
    }
   ],
   "execution_count": 14
  },
  {
   "metadata": {
    "ExecuteTime": {
     "end_time": "2025-08-07T13:09:27.012469Z",
     "start_time": "2025-08-07T13:09:26.696888Z"
    }
   },
   "cell_type": "code",
   "source": [
    "top_n = 10\n",
    "top_ads = results_df.head(top_n)\n",
    "plt.figure(figsize=(10, 6))\n",
    "plt.barh(top_ads['ad_group'], top_ads['shown_predicted_on_2015_12_15'])\n",
    "plt.xlabel('Predicted Ads Shown on Dec 15, 2015')\n",
    "plt.ylabel('Ad Group')\n",
    "plt.title(f'Top {top_n} Ad Groups by Predicted Shown Ads on 2015-12-15')\n",
    "plt.gca().invert_yaxis()\n",
    "plt.tight_layout()\n",
    "plt.show()"
   ],
   "id": "39822446ae8f8b94",
   "outputs": [
    {
     "data": {
      "text/plain": [
       "<Figure size 1000x600 with 1 Axes>"
      ],
      "image/png": "[encoded data removed]"
     },
     "metadata": {},
     "output_type": "display_data"
    }
   ],
   "execution_count": 15
  },
  {
   "metadata": {},
   "cell_type": "code",
   "outputs": [],
   "execution_count": null,
   "source": "",
   "id": "b9f027e7ee250502"
  }
 ],
 "metadata": {
  "kernelspec": {
   "display_name": "Python 3",
   "language": "python",
   "name": "python3"
  },
  "language_info": {
   "codemirror_mode": {
    "name": "ipython",
    "version": 2
   },
   "file_extension": ".py",
   "mimetype": "text/x-python",
   "name": "python",
   "nbconvert_exporter": "python",
   "pygments_lexer": "ipython2",
   "version": "2.7.6"
  }
 },
 "nbformat": 4,
 "nbformat_minor": 5
}
